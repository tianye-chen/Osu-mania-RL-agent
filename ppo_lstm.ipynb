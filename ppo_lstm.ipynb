{
 "cells": [
  {
   "cell_type": "markdown",
   "metadata": {},
   "source": [
    "## Train Agent on Osu Environment using PPO LSTM"
   ]
  },
  {
   "cell_type": "code",
   "execution_count": 1,
   "metadata": {},
   "outputs": [],
   "source": [
    "from environment import OsuEnvironment\n",
    "from ppo_agent import PPO_Agent\n",
    "from model import LSTM_Actor, LSTM_Critic\n",
    "import torch\n",
    "import torch.nn as nn\n",
    "import torch.optim as optim\n",
    "import os\n",
    "import warnings\n",
    "import logging\n",
    "\n",
    "if not os.path.exists('yolov5'):\n",
    "    !git clone https://github.com/ultralytics/yolov5\n",
    "    !pip install -r yolov5/requirements.txt\n",
    "\n",
    "warnings.simplefilter(\"ignore\", FutureWarning)\n",
    "logging.getLogger('ultralytics').setLevel(logging.ERROR)\n",
    "\n",
    "device = torch.device(\"cuda\" if torch.cuda.is_available() else \"cpu\")"
   ]
  },
  {
   "cell_type": "code",
   "execution_count": 2,
   "metadata": {},
   "outputs": [
    {
     "name": "stderr",
     "output_type": "stream",
     "text": [
      "Downloading: \"https://github.com/ultralytics/yolov5/zipball/master\" to C:\\Users\\bohui/.cache\\torch\\hub\\master.zip\n",
      "YOLOv5  2024-12-2 Python-3.11.5 torch-2.5.0+cu118 CUDA:0 (NVIDIA GeForce RTX 3050 Ti Laptop GPU, 4096MiB)\n",
      "\n",
      "Fusing layers... \n",
      "Model summary: 157 layers, 7018216 parameters, 0 gradients, 15.8 GFLOPs\n",
      "Adding AutoShape... \n"
     ]
    },
    {
     "name": "stdout",
     "output_type": "stream",
     "text": [
      "Listening on 127.0.0.1:5555\n"
     ]
    }
   ],
   "source": [
    "# define arguments for Agent\n",
    "env = OsuEnvironment(num_frame=15)\n",
    "behavior_cloning = True\n",
    "hidden_size = 128\n",
    "num_layer = 2\n",
    "dropout = 0.1\n",
    "batch_size = 64\n",
    "n_epoch = 5\n",
    "\n",
    "actor_net = LSTM_Actor(env.observation_space, env.action_space.nvec, hidden_size=hidden_size, num_layer=num_layer, dropout=dropout).to(device)\n",
    "critic_net = LSTM_Critic(env.observation_space, hidden_size=hidden_size, num_layer=num_layer, dropout=dropout).to(device)\n",
    "\n",
    "actor_optimizer = optim.Adam(actor_net.parameters(), lr=0.001)\n",
    "critic_optimizer = optim.Adam(critic_net.parameters(), lr=0.001)\n",
    "\n",
    "agent = PPO_Agent(env=env, \n",
    "                  actor_net=actor_net, \n",
    "                  critic_net=critic_net,\n",
    "                  actor_optimizer=actor_optimizer, \n",
    "                  critic_optimizer=critic_optimizer, \n",
    "                  batch_size=batch_size,\n",
    "                  n_epoch=n_epoch, \n",
    "                  behavior_cloning=True)"
   ]
  },
  {
   "cell_type": "code",
   "execution_count": 3,
   "metadata": {},
   "outputs": [
    {
     "name": "stdout",
     "output_type": "stream",
     "text": [
      "Episod 10, pre-training loss: 0.048103951528801696\n",
      "Episod 20, pre-training loss: 0.02689887400025566\n",
      "Episod 30, pre-training loss: 0.017904549141292286\n",
      "Episod 40, pre-training loss: 0.013196834974952934\n",
      "Episod 50, pre-training loss: 0.010603529787507891\n",
      "Episod 60, pre-training loss: 0.00870633464921312\n",
      "Episod 70, pre-training loss: 0.007744373369864627\n",
      "Episod 80, pre-training loss: 0.007191756078796447\n",
      "Episod 90, pre-training loss: 0.006561091016136256\n",
      "Episod 100, pre-training loss: 0.006152456134986574\n",
      "Episod 110, pre-training loss: 0.005998616138883966\n",
      "Episod 120, pre-training loss: 0.005685568765204132\n",
      "Episod 130, pre-training loss: 0.005225965949524465\n",
      "Episod 140, pre-training loss: 0.005127025554863127\n",
      "Episod 150, pre-training loss: 0.004753652918235845\n",
      "Episod 160, pre-training loss: 0.004893571155197405\n",
      "Episod 170, pre-training loss: 0.004738511629535483\n",
      "Episod 180, pre-training loss: 0.004520072712417267\n",
      "Episod 190, pre-training loss: 0.004507530136719221\n",
      "Episod 200, pre-training loss: 0.004267450376486186\n"
     ]
    }
   ],
   "source": [
    "agent.pretrain(total_episode=200)"
   ]
  },
  {
   "cell_type": "code",
   "execution_count": 4,
   "metadata": {},
   "outputs": [
    {
     "name": "stdout",
     "output_type": "stream",
     "text": [
      "Accuracy:  0.9879792355431819\n"
     ]
    }
   ],
   "source": [
    "agent.eval(pretrain=True)"
   ]
  },
  {
   "cell_type": "code",
   "execution_count": null,
   "metadata": {},
   "outputs": [
    {
     "name": "stdout",
     "output_type": "stream",
     "text": [
      "Episode 10: Total Reward: -208, Loss: 0.12204598023090511\n",
      "Episode 20: Total Reward: -151, Loss: 0.16716272179037334\n",
      "Episode 30: Total Reward: -129, Loss: 0.18378035463392733\n"
     ]
    }
   ],
   "source": [
    "agent.train(total_episode=100, c=0.02, expert_weight=0.2, margin=0.8)"
   ]
  },
  {
   "cell_type": "code",
   "execution_count": null,
   "metadata": {},
   "outputs": [],
   "source": [
    "%matplotlib inline\n",
    "agent.plot()"
   ]
  },
  {
   "cell_type": "code",
   "execution_count": null,
   "metadata": {},
   "outputs": [],
   "source": [
    "agent.eval(total_episode=5)"
   ]
  }
 ],
 "metadata": {
  "kernelspec": {
   "display_name": "Python 3",
   "language": "python",
   "name": "python3"
  },
  "language_info": {
   "codemirror_mode": {
    "name": "ipython",
    "version": 3
   },
   "file_extension": ".py",
   "mimetype": "text/x-python",
   "name": "python",
   "nbconvert_exporter": "python",
   "pygments_lexer": "ipython3",
   "version": "3.11.5"
  }
 },
 "nbformat": 4,
 "nbformat_minor": 2
}
