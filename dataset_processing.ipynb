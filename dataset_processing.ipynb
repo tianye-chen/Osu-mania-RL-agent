{
 "cells": [
  {
   "cell_type": "code",
   "execution_count": 4,
   "metadata": {},
   "outputs": [],
   "source": [
    "import cv2\n",
    "import numpy as np\n",
    "import os\n",
    "from helper import split_frames\n",
    "import traceback\n",
    "import time"
   ]
  },
  {
   "cell_type": "code",
   "execution_count": 2,
   "metadata": {},
   "outputs": [
    {
     "name": "stdout",
     "output_type": "stream",
     "text": [
      "Wrote 60 frames to /frames/unlabeled/2\n"
     ]
    }
   ],
   "source": [
    "video_path = './video_out/output_1.mp4'\n",
    "frame_out_main_path = 'frames'\n",
    "labeled_path_extension = 'labeled'\n",
    "unlabelled_path_extension = 'unlabeled'\n",
    "sub_path_idx = int(time.time())\n",
    "\n",
    "while os.path.exists(f'{frame_out_main_path}/{unlabelled_path_extension}/{sub_path_idx}'):\n",
    "    sub_path_idx += 1\n",
    "\n",
    "complete_frame_out_path = f'{frame_out_main_path}/{unlabelled_path_extension}/{sub_path_idx}'\n",
    "os.makedirs(complete_frame_out_path)\n",
    "\n",
    "try:\n",
    "  split_frames(video_path, complete_frame_out_path)\n",
    "except Exception as e:\n",
    "  print(traceback.format_exc())\n",
    "  os.rmdir(complete_frame_out_path)"
   ]
  }
 ],
 "metadata": {
  "kernelspec": {
   "display_name": "Python 3",
   "language": "python",
   "name": "python3"
  },
  "language_info": {
   "codemirror_mode": {
    "name": "ipython",
    "version": 3
   },
   "file_extension": ".py",
   "mimetype": "text/x-python",
   "name": "python",
   "nbconvert_exporter": "python",
   "pygments_lexer": "ipython3",
   "version": "3.10.6"
  }
 },
 "nbformat": 4,
 "nbformat_minor": 2
}
