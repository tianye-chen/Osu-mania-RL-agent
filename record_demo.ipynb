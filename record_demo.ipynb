{
 "cells": [
  {
   "cell_type": "markdown",
   "metadata": {},
   "source": [
    "# Record Demo\n",
    "\n",
    "This notebook is used for recording expert demos for imitation learning as well as finding the hit judgement areas for simulated game environment purposes"
   ]
  },
  {
   "cell_type": "code",
   "execution_count": 1,
   "metadata": {},
   "outputs": [],
   "source": [
    "import os\n",
    "import warnings\n",
    "import logging\n",
    "import time\n",
    "import mss\n",
    "import torch\n",
    "import numpy as np\n",
    "from pynput import keyboard\n",
    "from pynput.keyboard import Controller, Key\n",
    "from concurrent.futures import ThreadPoolExecutor\n",
    "import pathlib\n",
    "from helper import SocketListener, preprocess_actions, detect, capture, pad_inner_array, DataQueue\n",
    "\n",
    "if not os.path.exists('yolov5'):\n",
    "    !git clone https://github.com/ultralytics/yolov5\n",
    "    !pip install -r yolov5/requirements.txt\n",
    "\n",
    "warnings.simplefilter(\"ignore\", FutureWarning)\n",
    "logging.getLogger('ultralytics').setLevel(logging.ERROR)\n",
    "\n",
    "executor = ThreadPoolExecutor(max_workers=8)"
   ]
  },
  {
   "cell_type": "code",
   "execution_count": 2,
   "metadata": {},
   "outputs": [
    {
     "name": "stderr",
     "output_type": "stream",
     "text": [
      "Downloading: \"https://github.com/ultralytics/yolov5/zipball/master\" to C:\\Users\\tiany/.cache\\torch\\hub\\master.zip\n",
      "YOLOv5  2024-11-25 Python-3.10.6 torch-2.5.1+cu118 CUDA:0 (NVIDIA GeForce RTX 3050 Ti Laptop GPU, 4096MiB)\n",
      "\n",
      "Fusing layers... \n",
      "Model summary: 157 layers, 7018216 parameters, 0 gradients, 15.8 GFLOPs\n",
      "Adding AutoShape... \n"
     ]
    }
   ],
   "source": [
    "pathlib.PosixPath = pathlib.WindowsPath # https://github.com/ultralytics/yolov5/issues/10240#issuecomment-1662573188\n",
    "model = torch.hub.load('ultralytics/yolov5', 'custom', path='./models/best.pt', force_reload=True)  \n",
    "\n",
    "monitor = mss.mss().monitors[2]\n",
    "t, l, w, h = monitor['top'], monitor['left'], monitor['width'], monitor['height']\n",
    "region = {'left': l+int(w * 0.338), 'top': t, 'width': w-int(w * 0.673), 'height': h} "
   ]
  },
  {
   "cell_type": "code",
   "execution_count": 3,
   "metadata": {},
   "outputs": [],
   "source": [
    "# Store pressed keys\n",
    "pressed_keys = set()\n",
    "\n",
    "def on_press(key):\n",
    "    try:\n",
    "        pressed_keys.add(key.char)  # Record alphanumeric keys\n",
    "    except AttributeError:\n",
    "        pressed_keys.add(str(key))  # Record special keys\n",
    "\n",
    "def on_release(key):\n",
    "    try:\n",
    "        pressed_keys.discard(key.char)  # Remove released alphanumeric keys\n",
    "    except AttributeError:\n",
    "        pressed_keys.discard(str(key))  # Remove released special keys\n",
    "\n",
    "def record_key():\n",
    "    # Record the current frame's keys\n",
    "    current_keys = list(pressed_keys) \n",
    "    return current_keys\n",
    "\n",
    "key_listener = keyboard.Listener(on_press=on_press, on_release=on_release)\n",
    "key_listener.start()\n",
    "keyboard_controller = Controller()\n",
    "key_press = ['s', 'd', 'k', 'l']\n",
    "\n",
    "hold_notes = [False] * 4\n",
    "keys_held = [False] * 4\n",
    "\n",
    "def press_key(keys_to_press, note_type):\n",
    "  for i in range(len(keys_to_press)):\n",
    "    if note_type[i] in [1, 2]:\n",
    "      keyboard_controller.press(keys_to_press[i])\n",
    "      if note_type[i] == 2:\n",
    "        keys_held[key_press.index(keys_to_press[i])] = True\n",
    "      \n",
    "  time.sleep(0.04)\n",
    "  \n",
    "  for i in range(len(keys_to_press)):\n",
    "    if note_type[i] in [1, 0]:\n",
    "      keys_held[key_press.index(keys_to_press[i])] = False\n",
    "      keyboard_controller.release(keys_to_press[i])"
   ]
  },
  {
   "cell_type": "code",
   "execution_count": 4,
   "metadata": {},
   "outputs": [],
   "source": [
    "# Capture keyboard input at n FPS\n",
    "FPS = 15\n",
    "frame_duration = 1 / FPS\n",
    "\n",
    "# Track notes and key input\n",
    "frames = []\n",
    "actions = []\n",
    "hit_type = []"
   ]
  },
  {
   "cell_type": "code",
   "execution_count": 5,
   "metadata": {},
   "outputs": [
    {
     "name": "stdout",
     "output_type": "stream",
     "text": [
      "Listening on 127.0.0.1:5555\n"
     ]
    }
   ],
   "source": [
    "data_queue = DataQueue()\n",
    "listener = SocketListener()\n",
    "listener.start(data_handler=data_queue.add)"
   ]
  },
  {
   "cell_type": "code",
   "execution_count": 6,
   "metadata": {},
   "outputs": [],
   "source": [
    "def get_simulated_reward(keys, notes):\n",
    "  '''\n",
    "  Partial simulation of the game's reward system, only perfect and great hits are rewarded.\n",
    "  \n",
    "  keys: list of keys pressed, e.g. ['s', 'd', 'k', 'l']\n",
    "  notes: list of notes in the current frame in [[class_id, lane, y_center], ...], can be any length\n",
    "  '''\n",
    "  if len(notes) == 0:\n",
    "    return 0\n",
    "  \n",
    "  begin_check = 600 # y threshold for notes to be considered for rewards\n",
    "  regular_note_threshold = [850, 960] # y threshold for normal and start holds to be rewarded\n",
    "  end_hold_threshold = [805, 910] # y threshold for end holds to be rewarded\n",
    "  reward = 0\n",
    "  notes = [x for x in notes if x[2] > begin_check][:4]\n",
    "\n",
    "  # Check if hold notes are released early for each lane\n",
    "  # hold_notes are handled by this function, \n",
    "  # keys_held should be handled elsewhere to signify that the key is being held\n",
    "  for i in range(len(hold_notes)):\n",
    "    if hold_notes[i] and not keys_held[i]:\n",
    "      hold_notes[i] = False\n",
    "      reward += -1\n",
    "  \n",
    "  for note in notes:\n",
    "    class_id, lane, y_center = note\n",
    "    key_matched = any([key_press.index(key) == lane for key in keys])\n",
    "    \n",
    "    # Check for normal (1) and start hold (2) notes\n",
    "    if class_id in [1, 2]:\n",
    "      if key_matched:\n",
    "        if regular_note_threshold[0] < y_center <=regular_note_threshold[1]:\n",
    "          reward += 1\n",
    "        else:\n",
    "          reward += -1\n",
    "        if class_id == 2:\n",
    "          hold_notes[lane] = True\n",
    "          \n",
    "    # Check for end hold (0) notes\n",
    "    if class_id == 0:\n",
    "      if key_matched:\n",
    "        if end_hold_threshold[0] < lane <= end_hold_threshold[1]:\n",
    "          reward += 1\n",
    "        else:\n",
    "          reward += -1\n",
    "        hold_notes[lane] = False\n",
    "            \n",
    "  return reward"
   ]
  },
  {
   "cell_type": "code",
   "execution_count": 7,
   "metadata": {},
   "outputs": [],
   "source": [
    "auto_play = True\n",
    "song_begin = False\n",
    "total_reward = 0\n",
    "while listener.is_first_connection or listener.is_listening:\n",
    "    if listener.has_connection:\n",
    "        song_begin = True\n",
    "        time_start = time.time()\n",
    "        \n",
    "        keys_thread = executor.submit(record_key)\n",
    "        action_queue = keys_thread.result()\n",
    "        \n",
    "        image = capture(region)\n",
    "        vision_thread = executor.submit(detect, np.array(image), model)\n",
    "        notes = vision_thread.result() \n",
    "\n",
    "        data = data_queue.get()\n",
    "        actions.append(action_queue)\n",
    "        hit_type.append(data)\n",
    "      \n",
    "        # if data:\n",
    "        #   if len(notes) == 0:\n",
    "        #     notes = frames[-1]\n",
    "        \n",
    "        if auto_play:  \n",
    "          action_queue = []\n",
    "          note_type = []\n",
    "          for note in notes:\n",
    "            class_id, lane, y_center = note\n",
    "            \n",
    "            if y_center > 805 and class_id == 0:\n",
    "              action_queue.append(key_press[lane])\n",
    "              note_type.append(class_id)\n",
    "            elif note[2] > 860:\n",
    "              action_queue.append(key_press[lane])\n",
    "              note_type.append(class_id)\n",
    "          \n",
    "          if len(action_queue) > 0:\n",
    "            executor.submit(press_key, action_queue, note_type)\n",
    "        \n",
    "        total_reward += get_simulated_reward(action_queue, notes)\n",
    "        frames.append(notes)\n",
    "        data_queue.clear()\n",
    "        \n",
    "        # elapsed_time = time.time() - time_start\n",
    "        # if elapsed_time < frame_duration:\n",
    "        #     time.sleep(frame_duration-elapsed_time)\n",
    "                \n",
    "    elif song_begin:\n",
    "      listener.stop()\n",
    "      break"
   ]
  },
  {
   "cell_type": "code",
   "execution_count": 8,
   "metadata": {},
   "outputs": [
    {
     "name": "stdout",
     "output_type": "stream",
     "text": [
      "2049\n"
     ]
    }
   ],
   "source": [
    "print(total_reward)"
   ]
  },
  {
   "cell_type": "code",
   "execution_count": 9,
   "metadata": {},
   "outputs": [
    {
     "name": "stdout",
     "output_type": "stream",
     "text": [
      "3137 3137 3137\n"
     ]
    }
   ],
   "source": [
    "print(len(frames), len(actions), len(hit_type)) "
   ]
  },
  {
   "cell_type": "code",
   "execution_count": 10,
   "metadata": {},
   "outputs": [],
   "source": [
    "frames = frames[:len(hit_type)]\n",
    "keys = preprocess_actions(actions)\n",
    "# actions = actions[:len(hit_type)]"
   ]
  },
  {
   "cell_type": "code",
   "execution_count": 11,
   "metadata": {},
   "outputs": [],
   "source": [
    "padded_hit_type = pad_inner_array(hit_type, pad_value=-1, pad_len=4)\n",
    "padded_frames = pad_inner_array(frames, pad_value=[-1, -1, -1], pad_len=20)\n",
    "t_hit_type = torch.tensor(padded_hit_type)\n",
    "t_frames = torch.tensor(padded_frames)"
   ]
  },
  {
   "cell_type": "code",
   "execution_count": 12,
   "metadata": {},
   "outputs": [
    {
     "name": "stdout",
     "output_type": "stream",
     "text": [
      "Removed 274 outliers\n",
      "Average Miss: 886.8333333333334\n",
      "Average Meh: 857.0\n",
      "Average Ok: 898.6666666666666\n",
      "Average Good: 964.05\n",
      "Average Great: 954.7081850533808\n",
      "Average Perfect: 939.0282352941176\n"
     ]
    },
    {
     "data": {
      "image/png": "[encoded data removed]",
      "text/plain": [
       "<Figure size 1000x2000 with 1 Axes>"
      ]
     },
     "metadata": {},
     "output_type": "display_data"
    }
   ],
   "source": [
    "hit_type_dict = {\n",
    "  0 : 'Miss',\n",
    "  1 : 'Meh',\n",
    "  2 : 'Ok',\n",
    "  3 : 'Good',\n",
    "  4 : 'Great',\n",
    "  5 : 'Perfect',\n",
    "}\n",
    "\n",
    "hit_type_colors ={\n",
    "  0 : 'red',\n",
    "  1 : 'orange',\n",
    "  2 : 'green',\n",
    "  3 : 'lime',\n",
    "  4 : 'cornflowerblue',\n",
    "  5 : 'aqua',\n",
    "}\n",
    "\n",
    "hit_type_locs = [0] * 6\n",
    "hit_res = [0] * 6\n",
    "combined = [] \n",
    "\n",
    "for i in range(len(frames)):  \n",
    "  if sum(t_hit_type[i]) > -4:\n",
    "    #print(t_frames[i], actions[i], t_hit_type[i])\n",
    "    for h in t_hit_type[i]:\n",
    "      if h not in [-1, 6, 7]:\n",
    "        hit_res[h] += 1\n",
    "    \n",
    "    combined.append((t_frames[i][0], keys[i], t_hit_type[i]))\n",
    "\n",
    "combined = np.array(combined)\n",
    "outlier_thresh = 0.75\n",
    "remove_count = 0\n",
    "\n",
    "import matplotlib.pyplot as plt\n",
    "for i in range(6):\n",
    "  filter = [x for x in combined if i in x[2] and x[0][0] == 1 and 800 < x[0][2] < 1000]\n",
    "  temp = []\n",
    "  \n",
    "  for f in filter:\n",
    "    point = f[0][2]\n",
    "    temp.append(point.item())\n",
    "  \n",
    "  std = np.std(temp)\n",
    "  mean = np.mean(temp)\n",
    "  \n",
    "  for x in temp:\n",
    "    z = abs(x - mean)/std\n",
    "    if z > outlier_thresh:\n",
    "      remove_count += 1\n",
    "      temp.remove(x)\n",
    "  \n",
    "  hit_type_locs[i] = temp\n",
    "\n",
    "print(f'Removed {remove_count} outliers')\n",
    "%matplotlib inline\n",
    "fig, ax = plt.subplots(figsize=(10, 20))\n",
    "for i in range(len(hit_type_locs)):\n",
    "  ax.plot(hit_type_locs[i], label=hit_type_dict[i], marker='o', linestyle='None', color=hit_type_colors[i])\n",
    "  print(f'Average {hit_type_dict[i]}: {np.mean(hit_type_locs[i])}')\n",
    "  \n",
    "ax.legend()\n",
    "plt.show()\n",
    "    \n",
    "  # print(len(filter))\n",
    "  # hit_type_max[i].append(max(filter, key=lambda x: x[0][2]))\n",
    "  # hit_type_min[i].append(min(filter, key=lambda x: x[0][2]))"
   ]
  },
  {
   "cell_type": "code",
   "execution_count": 13,
   "metadata": {},
   "outputs": [
    {
     "name": "stdout",
     "output_type": "stream",
     "text": [
      "912\n",
      "958\n",
      "905\n",
      "964\n"
     ]
    }
   ],
   "source": [
    "print(min(hit_type_locs[5]))\n",
    "print(max(hit_type_locs[5]))\n",
    "\n",
    "print(min(hit_type_locs[4]))\n",
    "print(max(hit_type_locs[4]))"
   ]
  },
  {
   "cell_type": "code",
   "execution_count": 14,
   "metadata": {},
   "outputs": [],
   "source": [
    "def saveData(name):\n",
    "    os.makedirs('./expert_demo', exist_ok=True)\n",
    "\n",
    "    data = {\"frame\": frames,\n",
    "            \"action\": keys,\n",
    "            \"hit_type\": hit_type}\n",
    "    \n",
    "    torch.save(data, f\"./expert_demo/{name}_{time.time()}.pth\")"
   ]
  },
  {
   "cell_type": "code",
   "execution_count": 15,
   "metadata": {},
   "outputs": [],
   "source": [
    "#saveData(\"replay\")"
   ]
  },
  {
   "cell_type": "code",
   "execution_count": 16,
   "metadata": {},
   "outputs": [],
   "source": [
    "#test in game\n",
    "# song_begin = False\n",
    "# while listener.is_listening or listener.is_first_connection:\n",
    "#     if listener.has_connection:\n",
    "#         song_begin = True\n",
    "#         time_start = time.time()\n",
    "#         vision_thread = executor.submit(capture, region)\n",
    "#         image = vision_thread.result()\n",
    "\n",
    "#         vision_thread = executor.submit(detect, np.array(image), model)\n",
    "#         notes = vision_thread.result() \n",
    "        \n",
    "#         perform_action(actions[i])\n",
    "\n",
    "#         elapsed_time = time.time() - time_start\n",
    "#         if elapsed_time < frame_duration:\n",
    "#                 time.sleep(frame_duration-elapsed_time)\n",
    "\n",
    "#     elif song_begin:\n",
    "#          break"
   ]
  }
 ],
 "metadata": {
  "kernelspec": {
   "display_name": "Python 3",
   "language": "python",
   "name": "python3"
  },
  "language_info": {
   "codemirror_mode": {
    "name": "ipython",
    "version": 3
   },
   "file_extension": ".py",
   "mimetype": "text/x-python",
   "name": "python",
   "nbconvert_exporter": "python",
   "pygments_lexer": "ipython3",
   "version": "3.10.6"
  }
 },
 "nbformat": 4,
 "nbformat_minor": 2
}
