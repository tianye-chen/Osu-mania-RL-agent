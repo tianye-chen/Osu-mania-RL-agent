{
 "cells": [
  {
   "cell_type": "code",
   "execution_count": 1,
   "metadata": {},
   "outputs": [],
   "source": [
    "import os\n",
    "import warnings\n",
    "import logging\n",
    "import time\n",
    "import mss\n",
    "import torch\n",
    "import numpy as np\n",
    "from pynput import keyboard\n",
    "from pynput.keyboard import Controller, Key\n",
    "from concurrent.futures import ThreadPoolExecutor\n",
    "import pathlib\n",
    "from helper import SocketListener\n",
    "if not os.path.exists('yolov5'):\n",
    "    !git clone https://github.com/ultralytics/yolov5\n",
    "    !pip install -r yolov5/requirements.txt\n",
    "\n",
    "warnings.simplefilter(\"ignore\", FutureWarning)\n",
    "logging.getLogger('ultralytics').setLevel(logging.ERROR)\n",
    "\n",
    "executor = ThreadPoolExecutor(max_workers=8)"
   ]
  },
  {
   "cell_type": "code",
   "execution_count": 2,
   "metadata": {},
   "outputs": [
    {
     "name": "stderr",
     "output_type": "stream",
     "text": [
      "Downloading: \"https://github.com/ultralytics/yolov5/zipball/master\" to C:\\Users\\bohui/.cache\\torch\\hub\\master.zip\n",
      "YOLOv5  2024-11-23 Python-3.11.5 torch-2.5.0+cu118 CUDA:0 (NVIDIA GeForce RTX 3050 Ti Laptop GPU, 4096MiB)\n",
      "\n",
      "Fusing layers... \n",
      "Model summary: 157 layers, 7018216 parameters, 0 gradients, 15.8 GFLOPs\n",
      "Adding AutoShape... \n"
     ]
    }
   ],
   "source": [
    "pathlib.PosixPath = pathlib.WindowsPath # https://github.com/ultralytics/yolov5/issues/10240#issuecomment-1662573188\n",
    "model = torch.hub.load('ultralytics/yolov5', 'custom', path='./models/best.pt', force_reload=True)  \n",
    "\n",
    "monitor = mss.mss().monitors[1]\n",
    "t, l, w, h = monitor['top'], monitor['left'], monitor['width'], monitor['height']\n",
    "region = {'left': l+int(w * 0.338), 'top': t, 'width': w-int(w * 0.673), 'height': h} "
   ]
  },
  {
   "cell_type": "code",
   "execution_count": 3,
   "metadata": {},
   "outputs": [],
   "source": [
    "def detect(img, model):\n",
    "  lanes = {\n",
    "    0 : (10, 180),\n",
    "    1 : (150, 320),\n",
    "    2 : (300, 470),\n",
    "    3 : (440, 610)\n",
    "  }\n",
    "  ret = []  \n",
    "  res = model(img)\n",
    "  \n",
    "  for box in res.xyxy[0]:\n",
    "    # Confidence level is less than 50%\n",
    "    if box[4] < 0.50:\n",
    "      continue\n",
    "    \n",
    "    x_center = int((box[0] + box[2]) / 2)\n",
    "    y_center = int((box[1] + box[3]) / 2)\n",
    "    class_id = int(box[5]) # classes are 0: end_hold, 1: note, 2: start_hold\n",
    "    \n",
    "    # Identify the lane of the note based on x_center\n",
    "    for lane, (start, end) in lanes.items():\n",
    "      if start <= x_center <= end:\n",
    "        break\n",
    "    \n",
    "    ret.append([class_id, lane, y_center])\n",
    "  \n",
    "  if ret:\n",
    "    ret = sorted(ret, key=lambda note: (-note[2], note[1]))\n",
    "\n",
    "  return ret \n",
    "\n",
    "def capture(region):\n",
    "  with mss.mss() as sct:\n",
    "    return sct.grab(region)"
   ]
  },
  {
   "cell_type": "code",
   "execution_count": 4,
   "metadata": {},
   "outputs": [],
   "source": [
    "# Store pressed keys\n",
    "pressed_keys = set()\n",
    "\n",
    "def on_press(key):\n",
    "    try:\n",
    "        pressed_keys.add(key.char)  # Record alphanumeric keys\n",
    "    except AttributeError:\n",
    "        pressed_keys.add(str(key))  # Record special keys\n",
    "\n",
    "def on_release(key):\n",
    "    try:\n",
    "        pressed_keys.discard(key.char)  # Remove released alphanumeric keys\n",
    "    except AttributeError:\n",
    "        pressed_keys.discard(str(key))  # Remove released special keys\n",
    "\n",
    "def record_key():\n",
    "    # Record the current frame's keys\n",
    "    current_keys = list(pressed_keys) \n",
    "    return current_keys\n"
   ]
  },
  {
   "cell_type": "code",
   "execution_count": 5,
   "metadata": {},
   "outputs": [],
   "source": [
    "# preprocess the actions into shape [4,4,4,4]\n",
    "def preprocess_actions(actions):\n",
    "    key_hold = [False] * 4\n",
    "    map_key = {\"s\": 0, \"d\" : 1, \"k\" : 2, \"l\" : 3}\n",
    "    clean_actions = []\n",
    "    for i in range(len(actions)):\n",
    "        chars = actions[i]\n",
    "        action = [0, 0, 0, 0]\n",
    "\n",
    "        if chars == []:\n",
    "            clean_actions.append(action)\n",
    "            continue\n",
    "\n",
    "        for char in chars:\n",
    "            key = map_key.get(char)\n",
    "            if key is None:\n",
    "                continue\n",
    "            \n",
    "            if not key_hold[key]:\n",
    "                action[key] = 1\n",
    "            else:\n",
    "                action[key] = 2\n",
    "\n",
    "            if i + 1 < len(actions):\n",
    "                if char not in actions[i+1]:\n",
    "                    if key_hold[key]:\n",
    "                        action[key] = 3            \n",
    "                else:\n",
    "                    key_hold[key] = True\n",
    "                    action[key] = 2\n",
    "                \n",
    "        clean_actions.append(action)\n",
    "    \n",
    "    return clean_actions"
   ]
  },
  {
   "cell_type": "code",
   "execution_count": 6,
   "metadata": {},
   "outputs": [],
   "source": [
    "currently_hold = [False] * 4\n",
    "invalid = False\n",
    "key_pressed = False\n",
    "def keyboard_action(lane, key, action):\n",
    "    match action:\n",
    "        case 0: # do nothing\n",
    "            if currently_hold[lane]:\n",
    "                invalid = True\n",
    "            else:\n",
    "                return\n",
    "        case 1: # press\n",
    "            if currently_hold[lane]:\n",
    "                invalid = True\n",
    "            else:\n",
    "                keyboard_controller.press(key)\n",
    "                keyboard_controller.release(key)\n",
    "                key_pressed = True\n",
    "        case 2: # hold\n",
    "            if currently_hold[lane]:\n",
    "                return\n",
    "            keyboard_controller.press(key)\n",
    "            currently_hold[lane] = True\n",
    "            key_pressed = True\n",
    "        case 3: # release\n",
    "            if currently_hold[lane]:\n",
    "                keyboard_controller.release(key)\n",
    "                currently_hold[lane] = False\n",
    "            else:\n",
    "                invalid = True"
   ]
  },
  {
   "cell_type": "code",
   "execution_count": 7,
   "metadata": {},
   "outputs": [],
   "source": [
    "def perform_action(action):\n",
    "    keys = [\"s\", \"d\", \"k\", \"l\"]\n",
    "    threads = []\n",
    "    for lane in range(len(action)):\n",
    "        key = executor.submit(keyboard_action, lane, keys[lane], action[lane])\n",
    "    threads.append(key)\n",
    "\n",
    "    for key in threads:\n",
    "        key.result()"
   ]
  },
  {
   "cell_type": "code",
   "execution_count": 8,
   "metadata": {},
   "outputs": [],
   "source": [
    "# Capture keyboard input at x FPS\n",
    "FPS = 15\n",
    "frame_duration = 1 / FPS\n",
    "\n",
    "# track notes and key input\n",
    "frame = []\n",
    "actions = []\n",
    "hit_type = []"
   ]
  },
  {
   "cell_type": "code",
   "execution_count": 9,
   "metadata": {},
   "outputs": [
    {
     "name": "stdout",
     "output_type": "stream",
     "text": [
      "Listening on 127.0.0.1:5555\n"
     ]
    }
   ],
   "source": [
    "key_listener = keyboard.Listener(on_press=on_press, on_release=on_release)\n",
    "key_listener.start()\n",
    "listener = SocketListener()\n",
    "listener.start()\n",
    "\n",
    "keyboard_controller = Controller()"
   ]
  },
  {
   "cell_type": "code",
   "execution_count": 10,
   "metadata": {},
   "outputs": [],
   "source": [
    "# placehold for action_fuc\n",
    "def action_fuc():\n",
    "    return"
   ]
  },
  {
   "cell_type": "code",
   "execution_count": 11,
   "metadata": {},
   "outputs": [],
   "source": [
    "song_begin = False\n",
    "while listener.is_first_connection or listener.is_listening:\n",
    "    if listener.has_connection:\n",
    "        song_begin = True\n",
    "        time_start = time.time()\n",
    "        vision_thread = executor.submit(capture, region)\n",
    "        image = vision_thread.result()\n",
    "\n",
    "        vision_thread = executor.submit(detect, np.array(image), model)\n",
    "        notes = vision_thread.result() \n",
    "\n",
    "        keys = record_key()\n",
    "        data = listener.fetch_data(action_fuc, 0.01)\n",
    "\n",
    "        frame.append(notes)\n",
    "        actions.append(keys)\n",
    "        hit_type.append(data)\n",
    "\n",
    "        elapsed_time = time.time() - time_start\n",
    "        if elapsed_time < frame_duration:\n",
    "                time.sleep(frame_duration-elapsed_time)\n",
    "                \n",
    "    elif song_begin:\n",
    "         break"
   ]
  },
  {
   "cell_type": "code",
   "execution_count": 12,
   "metadata": {},
   "outputs": [],
   "source": [
    "actions = preprocess_actions(actions)\n",
    "# frame = frame[:len(hit_type)]\n",
    "# actions = actions[:len(hit_type)]"
   ]
  },
  {
   "cell_type": "code",
   "execution_count": 13,
   "metadata": {},
   "outputs": [],
   "source": [
    "def saveData(name):\n",
    "    os.makedirs('./expert_demo', exist_ok=True)\n",
    "\n",
    "    data = {\"frame\": frame,\n",
    "            \"action\": actions,\n",
    "            \"hit_type\": hit_type}\n",
    "    \n",
    "    torch.save(data, f\"./expert_demo/{name}_{time.time()}.pth\")"
   ]
  },
  {
   "cell_type": "code",
   "execution_count": 14,
   "metadata": {},
   "outputs": [
    {
     "name": "stdout",
     "output_type": "stream",
     "text": [
      "frame:  1030\n",
      "action:  1030\n",
      "hit type:  1030\n"
     ]
    }
   ],
   "source": [
    "print(\"frame: \", len(frame))\n",
    "print(\"action: \", len(actions))\n",
    "print(\"hit type: \", len(hit_type))"
   ]
  },
  {
   "cell_type": "code",
   "execution_count": 15,
   "metadata": {},
   "outputs": [],
   "source": [
    "saveData(\"replay\")"
   ]
  },
  {
   "cell_type": "code",
   "execution_count": null,
   "metadata": {},
   "outputs": [],
   "source": [
    "#test in game\n",
    "# song_begin = False\n",
    "# while listener.is_listening or listener.is_first_connection:\n",
    "#     if listener.has_connection:\n",
    "#         song_begin = True\n",
    "#         time_start = time.time()\n",
    "#         vision_thread = executor.submit(capture, region)\n",
    "#         image = vision_thread.result()\n",
    "\n",
    "#         vision_thread = executor.submit(detect, np.array(image), model)\n",
    "#         notes = vision_thread.result() \n",
    "        \n",
    "#         perform_action(actions[i])\n",
    "\n",
    "#         elapsed_time = time.time() - time_start\n",
    "#         if elapsed_time < frame_duration:\n",
    "#                 time.sleep(frame_duration-elapsed_time)\n",
    "\n",
    "#     elif song_begin:\n",
    "#          break"
   ]
  }
 ],
 "metadata": {
  "kernelspec": {
   "display_name": "Python 3",
   "language": "python",
   "name": "python3"
  },
  "language_info": {
   "codemirror_mode": {
    "name": "ipython",
    "version": 3
   },
   "file_extension": ".py",
   "mimetype": "text/x-python",
   "name": "python",
   "nbconvert_exporter": "python",
   "pygments_lexer": "ipython3",
   "version": "3.11.5"
  }
 },
 "nbformat": 4,
 "nbformat_minor": 2
}
