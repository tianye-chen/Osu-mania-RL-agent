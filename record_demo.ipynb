{
 "cells": [
  {
   "cell_type": "markdown",
   "metadata": {},
   "source": [
    "# Record Demo\n",
    "\n",
    "This notebook is used for recording expert demos for imitation learning as well as finding the hit judgement areas for simulated game environment purposes"
   ]
  },
  {
   "cell_type": "code",
   "execution_count": 1,
   "metadata": {},
   "outputs": [],
   "source": [
    "import os\n",
    "import warnings\n",
    "import logging\n",
    "import time\n",
    "import mss\n",
    "import torch\n",
    "import numpy as np\n",
    "from pynput import keyboard\n",
    "from pynput.keyboard import Controller, Key\n",
    "from concurrent.futures import ThreadPoolExecutor\n",
    "import pathlib\n",
    "from helper import SocketListener, preprocess_actions, detect, capture, pad_inner_array, DataQueue\n",
    "from reward import Reward\n",
    "import matplotlib.pyplot as plt\n",
    "\n",
    "if not os.path.exists('yolov5'):\n",
    "    !git clone https://github.com/ultralytics/yolov5\n",
    "    !pip install -r yolov5/requirements.txt\n",
    "\n",
    "warnings.simplefilter(\"ignore\", FutureWarning)\n",
    "logging.getLogger('ultralytics').setLevel(logging.ERROR)\n",
    "\n",
    "executor = ThreadPoolExecutor(max_workers=8)"
   ]
  },
  {
   "cell_type": "code",
   "execution_count": 2,
   "metadata": {},
   "outputs": [
    {
     "name": "stderr",
     "output_type": "stream",
     "text": [
      "Downloading: \"https://github.com/ultralytics/yolov5/zipball/master\" to C:\\Users\\tiany/.cache\\torch\\hub\\master.zip\n",
      "YOLOv5  2024-12-2 Python-3.10.6 torch-2.5.1+cu118 CUDA:0 (NVIDIA GeForce RTX 3050 Ti Laptop GPU, 4096MiB)\n",
      "\n",
      "Fusing layers... \n",
      "Model summary: 157 layers, 7018216 parameters, 0 gradients, 15.8 GFLOPs\n",
      "Adding AutoShape... \n"
     ]
    }
   ],
   "source": [
    "pathlib.PosixPath = pathlib.WindowsPath # https://github.com/ultralytics/yolov5/issues/10240#issuecomment-1662573188\n",
    "model = torch.hub.load('ultralytics/yolov5', 'custom', path='./models/best.pt', force_reload=True)  \n",
    "\n",
    "monitor = mss.mss().monitors[2]\n",
    "t, l, w, h = monitor['top'], monitor['left'], monitor['width'], monitor['height']\n",
    "region = {'left': l+int(w * 0.338), 'top': t, 'width': w-int(w * 0.673), 'height': h} "
   ]
  },
  {
   "cell_type": "code",
   "execution_count": 3,
   "metadata": {},
   "outputs": [],
   "source": [
    "# Store pressed keys\n",
    "pressed_keys = set()\n",
    "\n",
    "def on_press(key):\n",
    "    try:\n",
    "        pressed_keys.add(key.char)  # Record alphanumeric keys\n",
    "    except AttributeError:\n",
    "        pressed_keys.add(str(key))  # Record special keys\n",
    "\n",
    "def on_release(key):\n",
    "    try:\n",
    "        pressed_keys.discard(key.char)  # Remove released alphanumeric keys\n",
    "    except AttributeError:\n",
    "        pressed_keys.discard(str(key))  # Remove released special keys\n",
    "\n",
    "def record_key():\n",
    "    # Record the current frame's keys\n",
    "    current_keys = list(pressed_keys) \n",
    "    return current_keys\n",
    "\n",
    "key_listener = keyboard.Listener(on_press=on_press, on_release=on_release)\n",
    "key_listener.start()\n",
    "keyboard_controller = Controller()\n",
    "key_press = ['s', 'd', 'k', 'l']\n",
    "\n",
    "\n",
    "def press_key(keys_to_press, note_type):\n",
    "  for i in range(len(keys_to_press)):\n",
    "    if note_type[i] in [2, 3]:\n",
    "      keyboard_controller.press(keys_to_press[i])\n",
    "      \n",
    "  time.sleep(0.04)\n",
    "  \n",
    "  for i in range(len(keys_to_press)):\n",
    "    if note_type[i] in [2, 1]:\n",
    "      keyboard_controller.release(keys_to_press[i])"
   ]
  },
  {
   "cell_type": "code",
   "execution_count": 4,
   "metadata": {},
   "outputs": [],
   "source": [
    "# Capture keyboard input at n FPS\n",
    "FPS = 15\n",
    "frame_duration = 1 / FPS\n",
    "\n",
    "# Track notes and key input\n",
    "frames = []\n",
    "actions = []\n",
    "hit_results = []"
   ]
  },
  {
   "cell_type": "code",
   "execution_count": 5,
   "metadata": {},
   "outputs": [
    {
     "name": "stdout",
     "output_type": "stream",
     "text": [
      "Listening on 127.0.0.1:5555"
     ]
    }
   ],
   "source": [
    "data_queue = DataQueue()\n",
    "listener = SocketListener()\n",
    "listener.start(data_handler=data_queue.add, traceback=True)"
   ]
  },
  {
   "cell_type": "code",
   "execution_count": 6,
   "metadata": {},
   "outputs": [
    {
     "name": "stdout",
     "output_type": "stream",
     "text": [
      "\n",
      "Connection closed.\n"
     ]
    }
   ],
   "source": [
    "auto_play = False\n",
    "song_begin = False\n",
    "total_reward = 0\n",
    "\n",
    "while listener.is_first_connection or listener.is_listening:\n",
    "  if listener.has_connection:\n",
    "    song_begin = True\n",
    "    time_start = time.time()\n",
    "    \n",
    "    keys_thread = executor.submit(record_key)\n",
    "    action_queue = keys_thread.result()\n",
    "    \n",
    "    image = capture(region)\n",
    "    vision_thread = executor.submit(detect, np.array(image), model)\n",
    "    notes = vision_thread.result() \n",
    "    \n",
    "    if auto_play:  \n",
    "      action_queue = []\n",
    "      note_type = []\n",
    "      for note in notes:\n",
    "        class_id, lane, y_center = note\n",
    "        lane -= 1\n",
    "        \n",
    "        if y_center > 810 and class_id == 1:\n",
    "          action_queue.append(key_press[lane])\n",
    "          note_type.append(class_id)\n",
    "        elif y_center > 865:\n",
    "          action_queue.append(key_press[lane])\n",
    "          note_type.append(class_id)\n",
    "      \n",
    "      actions.append((action_queue, note_type))\n",
    "    else:\n",
    "      actions.append(action_queue)\n",
    "    \n",
    "    frames.append(notes)\n",
    "    data = data_queue.get()\n",
    "    hit_results.append(data)\n",
    "\n",
    "    if len(action_queue) > 0 and auto_play:\n",
    "      executor.submit(press_key, action_queue, note_type)\n",
    "    \n",
    "    data_queue.clear()\n",
    "    \n",
    "    if not auto_play:\n",
    "      elapsed_time = time.time() - time_start\n",
    "      if elapsed_time < frame_duration:\n",
    "          time.sleep(frame_duration-elapsed_time)\n",
    "            \n",
    "  elif song_begin:\n",
    "    listener.stop()\n",
    "    break"
   ]
  },
  {
   "cell_type": "code",
   "execution_count": 7,
   "metadata": {},
   "outputs": [
    {
     "name": "stdout",
     "output_type": "stream",
     "text": [
      "1731 1731 1731\n",
      "0\n"
     ]
    }
   ],
   "source": [
    "print(len(frames), len(actions), len(hit_results))\n",
    "print(total_reward)"
   ]
  },
  {
   "cell_type": "code",
   "execution_count": 8,
   "metadata": {},
   "outputs": [],
   "source": [
    "def preprocess_auto_actions(actions):\n",
    "  parsed_actions = []\n",
    "  keys_held = [False] * 4\n",
    "  key_mapping = {'s': 0, 'd': 1, 'k': 2, 'l': 3}\n",
    "\n",
    "  for keys, note_type in actions:\n",
    "    action = [0] * 4\n",
    "\n",
    "    for i in range(len(keys)):\n",
    "      key_index = key_mapping[keys[i]]\n",
    "      \n",
    "      # When key is hold\n",
    "      if note_type[i] == 3:\n",
    "        action[key_index] = 3\n",
    "        keys_held[key_index] = True\n",
    "      else: # When key is released or pressed\n",
    "        action[key_index] = note_type[i]\n",
    "        keys_held[key_index] = False\n",
    "    \n",
    "    # Continuously parse held keys as holds\n",
    "    for i in range(4):\n",
    "      if keys_held[i]:\n",
    "        action[i] = 3\n",
    "        \n",
    "    parsed_actions.append(action)\n",
    "\n",
    "  return parsed_actions"
   ]
  },
  {
   "cell_type": "code",
   "execution_count": 9,
   "metadata": {},
   "outputs": [],
   "source": [
    "frames = frames[:len(hit_results)]\n",
    "keys = preprocess_actions(actions)\n",
    "# actions = actions[:len(hit_type)]"
   ]
  },
  {
   "cell_type": "code",
   "execution_count": 10,
   "metadata": {},
   "outputs": [],
   "source": [
    "padded_hit_type = pad_inner_array(hit_results, pad_value=-1, pad_len=4)\n",
    "padded_frames = pad_inner_array(frames, pad_value=[0, 0, 0], pad_len=20)\n",
    "t_hit_type = torch.tensor(padded_hit_type)\n",
    "t_frames = torch.tensor(padded_frames)"
   ]
  },
  {
   "cell_type": "code",
   "execution_count": 11,
   "metadata": {},
   "outputs": [
    {
     "name": "stdout",
     "output_type": "stream",
     "text": [
      "Removed 3 outliers\n",
      "[2, 3, 20, 163, 660, 662]\n",
      "Average Miss: 832.0\n",
      "Average Meh: 729.0\n",
      "Average Ok: 791.9\n",
      "Average Good: 787.8111888111888\n",
      "Average Great: 760.0311926605505\n",
      "Average Perfect: 760.9627450980392\n"
     ]
    },
    {
     "data": {
      "image/png": "[encoded data removed]",
      "text/plain": [
       "<Figure size 1000x500 with 1 Axes>"
      ]
     },
     "metadata": {},
     "output_type": "display_data"
    }
   ],
   "source": [
    "# Hit type name and plot color\n",
    "hit_type_dict = {\n",
    "  0 : ('Miss', 'red'),\n",
    "  1 : ('Meh', 'orange'),\n",
    "  2 : ('Ok', 'green'),\n",
    "  3 : ('Good', 'lime'),\n",
    "  4 : ('Great', 'cornflowerblue'),\n",
    "  5 : ('Perfect', 'aqua'),\n",
    "}\n",
    "\n",
    "hit_type_locs = [0] * 6 # The y_center of each hit type\n",
    "hit_res = [0] * 6 # The count of each hit type\n",
    "combined = [] # Combined frames, keys, and hit types\n",
    "\n",
    "for i in range(len(frames)):  \n",
    "  # Sum of hit type will be greater than -4 if there is a valid hit type in this frame\n",
    "  if sum(t_hit_type[i]) > -4:\n",
    "    for h in t_hit_type[i]:\n",
    "      if h not in [-1, 6, 7]: # Exclude pad values and flags\n",
    "        hit_res[h] += 1\n",
    "    \n",
    "    combined.append((t_frames[i][0], keys[i], t_hit_type[i]))\n",
    "\n",
    "combined = np.array(combined)\n",
    "outlier_thresh = 3\n",
    "remove_count = 0\n",
    "\n",
    "for hit_type_id in range(6):\n",
    "  # Filter by hit types\n",
    "  filter = [x for x in combined if hit_type_id in x[2]]\n",
    "  hit_type_points = []\n",
    "  \n",
    "  if len(filter) == 0:\n",
    "    continue\n",
    "  \n",
    "  for f in filter:\n",
    "    point = f[0][2]\n",
    "    hit_type_points.append(point.item())\n",
    "  \n",
    "  # Remove any potential outliers\n",
    "  std = np.std(hit_type_points)\n",
    "  mean = np.mean(hit_type_points)\n",
    "  for x in hit_type_points:\n",
    "    if std == 0:\n",
    "      continue\n",
    "    \n",
    "    z = abs(x - mean)/std\n",
    "    if z > outlier_thresh:\n",
    "      remove_count += 1\n",
    "      hit_type_points.remove(x)\n",
    "  \n",
    "  hit_type_locs[hit_type_id] = hit_type_points\n",
    "  \n",
    "print(f'Removed {remove_count} outliers')\n",
    "print(hit_res)\n",
    "\n",
    "%matplotlib inline\n",
    "fig, ax = plt.subplots(figsize=(10, 5))\n",
    "plt.title('Note Hit Distribution')\n",
    "plt.xlabel('Y_center')\n",
    "plt.ylabel('Frequency')\n",
    "plt.xticks(np.arange(0, 1000, 25), rotation=90)\n",
    "\n",
    "for i in range(len(hit_type_locs)):\n",
    "  hit_type, color = hit_type_dict[i]\n",
    "  print(f'Average {hit_type}: {np.mean(hit_type_locs[i])}')\n",
    "  ax.hist(hit_type_locs[i], label=hit_type, linestyle='None', color=color, rwidth=0.3, alpha=0.5)\n",
    "  \n",
    "ax.legend()\n",
    "plt.show()"
   ]
  },
  {
   "cell_type": "code",
   "execution_count": 13,
   "metadata": {},
   "outputs": [],
   "source": [
    "def save_data(name):\n",
    "    os.makedirs('./expert_demo/', exist_ok=True)\n",
    "\n",
    "    data = {\"frame\": frames,\n",
    "            \"action\": keys,\n",
    "            \"hit_type\": hit_results}\n",
    "    \n",
    "    torch.save(data, f\"./expert_demo/{name}_{time.time()}.pth\")"
   ]
  },
  {
   "cell_type": "code",
   "execution_count": 14,
   "metadata": {},
   "outputs": [],
   "source": [
    "save_data(\"replay\")"
   ]
  }
 ],
 "metadata": {
  "kernelspec": {
   "display_name": "Python 3",
   "language": "python",
   "name": "python3"
  },
  "language_info": {
   "codemirror_mode": {
    "name": "ipython",
    "version": 3
   },
   "file_extension": ".py",
   "mimetype": "text/x-python",
   "name": "python",
   "nbconvert_exporter": "python",
   "pygments_lexer": "ipython3",
   "version": "3.10.6"
  }
 },
 "nbformat": 4,
 "nbformat_minor": 2
}
