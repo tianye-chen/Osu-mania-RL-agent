{
 "cells": [
  {
   "cell_type": "code",
   "execution_count": 7,
   "metadata": {},
   "outputs": [],
   "source": [
    "from helper import SocketListener\n",
    "from concurrent.futures import ThreadPoolExecutor\n",
    "from pynput.keyboard import Key, Controller\n",
    "import time\n",
    "import random"
   ]
  },
  {
   "cell_type": "code",
   "execution_count": null,
   "metadata": {},
   "outputs": [
    {
     "name": "stdout",
     "output_type": "stream",
     "text": [
      "Listening on 127.0.0.1:5555\n",
      "Connection from ('127.0.0.1', 49437)\n",
      "Song failed\n",
      "Connection closed.[15, 0, 0, 0, 0, 0, 0, 1]\n",
      "\n",
      "Socket listener stopped.\n"
     ]
    }
   ],
   "source": [
    "data_queue = []\n",
    "# [Miss, Meh, Ok, Good, Great, Perfect, Passed?, Failed?]\n",
    "hit_counts = [0] * 8\n",
    "keyboard = Controller()\n",
    "\n",
    "def data_handler(data):\n",
    "  data_queue.append(data)\n",
    "  \n",
    "listener = SocketListener(data_handler=data_handler)\n",
    "  \n",
    "def process_data_queue():\n",
    "  while listener.is_listening or listener.is_first_connection:\n",
    "    if data_queue:\n",
    "      data = data_queue.pop(0)\n",
    "      \n",
    "      data = int.from_bytes(data, byteorder='little')\n",
    "      if data == 6:\n",
    "        print('Song passed')\n",
    "      if data == 7:\n",
    "        print('Song failed')\n",
    "      \n",
    "      hit_counts[data] += 1\n",
    "\n",
    "# Immediately ends connection after a song ends\n",
    "def check_connection():\n",
    "  while True:\n",
    "    if not listener.is_first_connection and not listener.has_connection:\n",
    "      listener.stop()\n",
    "      print(hit_counts)\n",
    "      break\n",
    "    \n",
    "def random_input():\n",
    "  inputs = ['s', 'd', 'k', 'l']\n",
    "  song_started = False\n",
    "  \n",
    "  while listener.is_listening or listener.is_first_connection:\n",
    "    if listener.has_connection:\n",
    "      song_started = True\n",
    "      inp = random.choice(inputs)\n",
    "      keyboard.press(inp)\n",
    "      keyboard.release(inp)\n",
    "      time.sleep(0.01)\n",
    "    elif song_started:\n",
    "      # There will be some extra inputs because of delay after song ends\n",
    "      # Those inputs will engage the search bar, clearing them\n",
    "      song_started = False\n",
    "      for _ in range(10):\n",
    "        keyboard.press(Key.backspace)\n",
    "        keyboard.release(Key.backspace)\n",
    "  \n",
    "  print('exit')\n",
    "\n",
    "with ThreadPoolExecutor(max_workers=8) as executor:\n",
    "    # executor.submit(random_input)\n",
    "    executor.submit(check_connection)\n",
    "    executor.submit(process_data_queue)\n",
    "    executor.submit(listener.start)"
   ]
  }
 ],
 "metadata": {
  "kernelspec": {
   "display_name": "Python 3",
   "language": "python",
   "name": "python3"
  },
  "language_info": {
   "codemirror_mode": {
    "name": "ipython",
    "version": 3
   },
   "file_extension": ".py",
   "mimetype": "text/x-python",
   "name": "python",
   "nbconvert_exporter": "python",
   "pygments_lexer": "ipython3",
   "version": "3.10.6"
  }
 },
 "nbformat": 4,
 "nbformat_minor": 2
}
