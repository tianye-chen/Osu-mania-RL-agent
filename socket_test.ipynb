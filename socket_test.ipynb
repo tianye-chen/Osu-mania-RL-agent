{
 "cells": [
  {
   "cell_type": "code",
   "execution_count": 1,
   "metadata": {},
   "outputs": [],
   "source": [
    "from helper import SocketListener\n",
    "from concurrent.futures import ThreadPoolExecutor\n",
    "from pynput.keyboard import Key, Controller\n",
    "import time\n",
    "import random"
   ]
  },
  {
   "cell_type": "code",
   "execution_count": 2,
   "metadata": {},
   "outputs": [],
   "source": [
    "keyboard = Controller()\n",
    "listener = SocketListener()"
   ]
  },
  {
   "cell_type": "code",
   "execution_count": null,
   "metadata": {},
   "outputs": [
    {
     "name": "stdout",
     "output_type": "stream",
     "text": [
      "Listening on 127.0.0.1:5555\n"
     ]
    }
   ],
   "source": [
    "# [Miss, Meh, Ok, Good, Great, Perfect, Passed?, Failed?]\n",
    "hit_counts = [0] * 8\n",
    "count = 0\n",
    "keyboard = Controller()\n",
    "\n",
    "listener = SocketListener()\n",
    "  \n",
    "def process_data():\n",
    "  while listener.is_listening or listener.is_first_connection:\n",
    "    if listener.has_connection:\n",
    "      time_start = time.time()\n",
    "      data = listener.fetch_data(action_fuc=perform_action, timeout=0.001)\n",
    "      if data is not None:\n",
    "        print(\"hit type: \", data)\n",
    "\n",
    "        if data == 6:\n",
    "          print('Song passed')\n",
    "          break\n",
    "        if data == 7:\n",
    "          print('Song failed')\n",
    "          break\n",
    "\n",
    "        print(hit_counts)      \n",
    "        hit_counts[data] += 1\n",
    "      else:\n",
    "        print(\"no data received\")\n",
    "      \n",
    "      time_end = time.time()\n",
    "      time_total = time_end - time_start\n",
    "      print(f\"it takes {time_total} seconds to fetch data after performing action\")\n",
    "\n",
    "    elif not listener.is_first_connection and not listener.has_connection:\n",
    "        listener.stop()\n",
    "        break\n",
    "\n",
    "def random_input():\n",
    "  inputs = ['s', 'd', 'k', 'l']\n",
    "  if listener.has_connection:\n",
    "    inp = random.choice(inputs)\n",
    "    print(\"key input: \",inp)\n",
    "    keyboard.press(inp)\n",
    "    time.sleep(0.05)\n",
    "    keyboard.release(inp)\n",
    "\n",
    "def perform_action():\n",
    "  with ThreadPoolExecutor(max_workers=8) as executor:\n",
    "    for _ in range(4):\n",
    "      executor.submit(random_input)\n",
    "\n",
    "with ThreadPoolExecutor(max_workers=8) as executor:\n",
    "    executor.submit(process_data)\n",
    "    listener.start()"
   ]
  }
 ],
 "metadata": {
  "kernelspec": {
   "display_name": "Python 3",
   "language": "python",
   "name": "python3"
  },
  "language_info": {
   "codemirror_mode": {
    "name": "ipython",
    "version": 3
   },
   "file_extension": ".py",
   "mimetype": "text/x-python",
   "name": "python",
   "nbconvert_exporter": "python",
   "pygments_lexer": "ipython3",
   "version": "3.11.5"
  }
 },
 "nbformat": 4,
 "nbformat_minor": 2
}
