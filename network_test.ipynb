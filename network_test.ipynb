{
 "cells": [
  {
   "cell_type": "code",
   "execution_count": 6,
   "metadata": {},
   "outputs": [],
   "source": [
    "from model import DQN\n",
    "import torch\n",
    "import time\n",
    "from torchinfo import summary"
   ]
  },
  {
   "cell_type": "code",
   "execution_count": 7,
   "metadata": {},
   "outputs": [
    {
     "name": "stdout",
     "output_type": "stream",
     "text": [
      "torch.Size([600, 4, 24])\n"
     ]
    }
   ],
   "source": [
    "\n",
    "state = torch.randint(1,10,(600,4,8,3), dtype=torch.float32)\n",
    "state = state.view(state.size(0), 4, -1)\n",
    "print(state.shape)"
   ]
  },
  {
   "cell_type": "code",
   "execution_count": 8,
   "metadata": {},
   "outputs": [
    {
     "name": "stdout",
     "output_type": "stream",
     "text": [
      "==========================================================================================\n",
      "Layer (type:depth-idx)                   Output Shape              Param #\n",
      "==========================================================================================\n",
      "DQN                                      [600, 4, 4]               129\n",
      "├─Sequential: 1-1                        [600, 64, 24]             --\n",
      "│    └─Conv1d: 2-1                       [600, 64, 24]             832\n",
      "│    └─ReLU: 2-2                         [600, 64, 24]             --\n",
      "│    └─Conv1d: 2-3                       [600, 64, 24]             12,352\n",
      "│    └─ReLU: 2-4                         [600, 64, 24]             --\n",
      "├─Sequential: 1-2                        [600, 128]                --\n",
      "│    └─Linear: 2-5                       [600, 128]                196,736\n",
      "│    └─ReLU: 2-6                         [600, 128]                --\n",
      "├─ModuleList: 1-3                        --                        --\n",
      "│    └─Linear: 2-7                       [600, 4]                  516\n",
      "│    └─Linear: 2-8                       [600, 4]                  516\n",
      "│    └─Linear: 2-9                       [600, 4]                  516\n",
      "│    └─Linear: 2-10                      [600, 4]                  516\n",
      "==========================================================================================\n",
      "Total params: 212,113\n",
      "Trainable params: 212,113\n",
      "Non-trainable params: 0\n",
      "Total mult-adds (Units.MEGABYTES): 309.13\n",
      "==========================================================================================\n",
      "Input size (MB): 0.23\n",
      "Forward/backward pass size (MB): 15.44\n",
      "Params size (MB): 0.85\n",
      "Estimated Total Size (MB): 16.52\n",
      "==========================================================================================\n",
      "torch.Size([600, 4, 4])\n",
      "0.00506281852722168 to process 600 states, average of 0.000008 seconds per state\n"
     ]
    }
   ],
   "source": [
    "# standard dqn\n",
    "test_network = DQN(4, 8, [4,4,4,4])\n",
    "print(summary(test_network, input_data=state))\n",
    "start_time = time.time()\n",
    "\n",
    "q_values = test_network(state)\n",
    "print(q_values.shape)\n",
    "\n",
    "total_time = time.time() - start_time\n",
    "print(f\"{total_time} to process 600 states, average of {total_time/600:.6f} seconds per state\")"
   ]
  },
  {
   "cell_type": "code",
   "execution_count": 9,
   "metadata": {},
   "outputs": [
    {
     "name": "stdout",
     "output_type": "stream",
     "text": [
      "==========================================================================================\n",
      "Layer (type:depth-idx)                   Output Shape              Param #\n",
      "==========================================================================================\n",
      "DQN                                      [600, 4, 4]               258\n",
      "├─Sequential: 1-1                        [600, 64, 24]             --\n",
      "│    └─Conv1d: 2-1                       [600, 64, 24]             832\n",
      "│    └─ReLU: 2-2                         [600, 64, 24]             --\n",
      "│    └─Conv1d: 2-3                       [600, 64, 24]             12,352\n",
      "│    └─ReLU: 2-4                         [600, 64, 24]             --\n",
      "├─Sequential: 1-2                        [600, 128]                --\n",
      "│    └─Noisy_Layer: 2-5                  [600, 128]                393,472\n",
      "│    └─ReLU: 2-6                         [600, 128]                --\n",
      "├─ModuleList: 1-3                        --                        --\n",
      "│    └─Noisy_Layer: 2-7                  [600, 4]                  1,032\n",
      "│    └─Noisy_Layer: 2-8                  [600, 4]                  1,032\n",
      "│    └─Noisy_Layer: 2-9                  [600, 4]                  1,032\n",
      "│    └─Noisy_Layer: 2-10                 [600, 4]                  1,032\n",
      "==========================================================================================\n",
      "Total params: 411,042\n",
      "Trainable params: 411,042\n",
      "Non-trainable params: 0\n",
      "Total mult-adds (Units.GIGABYTES): 30.42\n",
      "==========================================================================================\n",
      "Input size (MB): 0.23\n",
      "Forward/backward pass size (MB): 15.44\n",
      "Params size (MB): 1.64\n",
      "Estimated Total Size (MB): 17.31\n",
      "==========================================================================================\n",
      "torch.Size([600, 4, 4])\n",
      "0.005571842193603516 to process 600 states, average of 0.000009 seconds per state\n"
     ]
    }
   ],
   "source": [
    "# standard noisy dqn\n",
    "test_network = DQN(4, 8, [4,4,4,4], noisy=True)\n",
    "print(summary(test_network, input_data=state))\n",
    "start_time = time.time()\n",
    "\n",
    "q_values = test_network(state)\n",
    "print(q_values.shape)\n",
    "\n",
    "total_time = time.time() - start_time\n",
    "print(f\"{total_time} to process 600 states, average of {total_time/600:.6f} seconds per state\")"
   ]
  },
  {
   "cell_type": "code",
   "execution_count": 10,
   "metadata": {},
   "outputs": [
    {
     "name": "stdout",
     "output_type": "stream",
     "text": [
      "==========================================================================================\n",
      "Layer (type:depth-idx)                   Output Shape              Param #\n",
      "==========================================================================================\n",
      "DQN                                      [600, 4, 4]               --\n",
      "├─Sequential: 1-1                        [600, 64, 24]             --\n",
      "│    └─Conv1d: 2-1                       [600, 64, 24]             832\n",
      "│    └─ReLU: 2-2                         [600, 64, 24]             --\n",
      "│    └─Conv1d: 2-3                       [600, 64, 24]             12,352\n",
      "│    └─ReLU: 2-4                         [600, 64, 24]             --\n",
      "├─Sequential: 1-2                        [600, 128]                --\n",
      "│    └─Noisy_Layer: 2-5                  [600, 128]                393,472\n",
      "│    └─ReLU: 2-6                         [600, 128]                --\n",
      "├─Noisy_Layer: 1-3                       [600, 1]                  258\n",
      "├─ModuleList: 1-4                        --                        --\n",
      "│    └─Noisy_Layer: 2-7                  [600, 4]                  1,032\n",
      "│    └─Noisy_Layer: 2-8                  [600, 4]                  1,032\n",
      "│    └─Noisy_Layer: 2-9                  [600, 4]                  1,032\n",
      "│    └─Noisy_Layer: 2-10                 [600, 4]                  1,032\n",
      "==========================================================================================\n",
      "Total params: 411,042\n",
      "Trainable params: 411,042\n",
      "Non-trainable params: 0\n",
      "Total mult-adds (Units.GIGABYTES): 30.42\n",
      "==========================================================================================\n",
      "Input size (MB): 0.23\n",
      "Forward/backward pass size (MB): 15.44\n",
      "Params size (MB): 1.64\n",
      "Estimated Total Size (MB): 17.32\n",
      "==========================================================================================\n",
      "torch.Size([600, 4, 4])\n",
      "0.004511356353759766 to process 600 states, average of 0.000008 seconds per state\n"
     ]
    }
   ],
   "source": [
    "# dueling noisy dqn\n",
    "test_network = DQN(4, 8, [4,4,4,4], noisy=True, dueling=True)\n",
    "print(summary(test_network, input_data=state))\n",
    "start_time = time.time()\n",
    "\n",
    "q_values = test_network(state)\n",
    "print(q_values.shape)\n",
    "\n",
    "total_time = time.time() - start_time\n",
    "print(f\"{total_time} to process 600 states, average of {total_time/600:.6f} seconds per state\")"
   ]
  }
 ],
 "metadata": {
  "kernelspec": {
   "display_name": "Python 3",
   "language": "python",
   "name": "python3"
  },
  "language_info": {
   "codemirror_mode": {
    "name": "ipython",
    "version": 3
   },
   "file_extension": ".py",
   "mimetype": "text/x-python",
   "name": "python",
   "nbconvert_exporter": "python",
   "pygments_lexer": "ipython3",
   "version": "3.11.5"
  }
 },
 "nbformat": 4,
 "nbformat_minor": 2
}
