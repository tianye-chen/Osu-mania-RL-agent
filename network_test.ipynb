{
 "cells": [
  {
   "cell_type": "code",
   "execution_count": 10,
   "metadata": {},
   "outputs": [],
   "source": [
    "from model import DQN, LSTM_DQN\n",
    "import torch\n",
    "import time\n",
    "from torchinfo import summary"
   ]
  },
  {
   "cell_type": "code",
   "execution_count": 11,
   "metadata": {},
   "outputs": [
    {
     "name": "stdout",
     "output_type": "stream",
     "text": [
      "torch.Size([1, 4, 24])\n"
     ]
    }
   ],
   "source": [
    "state = torch.randint(1,10,(1,4,8,3), dtype=torch.float32)\n",
    "state = state.view(state.size(0), 4, -1)\n",
    "print(state.shape)"
   ]
  },
  {
   "cell_type": "code",
   "execution_count": 12,
   "metadata": {},
   "outputs": [
    {
     "name": "stdout",
     "output_type": "stream",
     "text": [
      "==========================================================================================\n",
      "Layer (type:depth-idx)                   Output Shape              Param #\n",
      "==========================================================================================\n",
      "DQN                                      [1, 4, 4]                 129\n",
      "├─Sequential: 1-1                        [1, 64, 24]               --\n",
      "│    └─Conv1d: 2-1                       [1, 64, 24]               832\n",
      "│    └─ReLU: 2-2                         [1, 64, 24]               --\n",
      "│    └─Conv1d: 2-3                       [1, 64, 24]               12,352\n",
      "│    └─ReLU: 2-4                         [1, 64, 24]               --\n",
      "├─Sequential: 1-2                        [1, 128]                  --\n",
      "│    └─Linear: 2-5                       [1, 128]                  196,736\n",
      "│    └─ReLU: 2-6                         [1, 128]                  --\n",
      "├─ModuleList: 1-3                        --                        --\n",
      "│    └─Linear: 2-7                       [1, 4]                    516\n",
      "│    └─Linear: 2-8                       [1, 4]                    516\n",
      "│    └─Linear: 2-9                       [1, 4]                    516\n",
      "│    └─Linear: 2-10                      [1, 4]                    516\n",
      "==========================================================================================\n",
      "Total params: 212,113\n",
      "Trainable params: 212,113\n",
      "Non-trainable params: 0\n",
      "Total mult-adds (Units.MEGABYTES): 0.52\n",
      "==========================================================================================\n",
      "Input size (MB): 0.00\n",
      "Forward/backward pass size (MB): 0.03\n",
      "Params size (MB): 0.85\n",
      "Estimated Total Size (MB): 0.87\n",
      "==========================================================================================\n",
      "torch.Size([1, 4, 4])\n",
      "0.0010082721710205078 to process 600 states, average of 0.000002 seconds per state\n"
     ]
    }
   ],
   "source": [
    "# standard dqn\n",
    "test_network = DQN(4, 8, [4,4,4,4])\n",
    "print(summary(test_network, input_data=state))\n",
    "start_time = time.time()\n",
    "\n",
    "q_values = test_network(state)\n",
    "print(q_values.shape)\n",
    "\n",
    "total_time = time.time() - start_time\n",
    "print(f\"{total_time} to process 600 states, average of {total_time/600:.6f} seconds per state\")"
   ]
  },
  {
   "cell_type": "code",
   "execution_count": 13,
   "metadata": {},
   "outputs": [
    {
     "name": "stdout",
     "output_type": "stream",
     "text": [
      "==========================================================================================\n",
      "Layer (type:depth-idx)                   Output Shape              Param #\n",
      "==========================================================================================\n",
      "DQN                                      [1, 4, 4]                 258\n",
      "├─Sequential: 1-1                        [1, 64, 24]               --\n",
      "│    └─Conv1d: 2-1                       [1, 64, 24]               832\n",
      "│    └─ReLU: 2-2                         [1, 64, 24]               --\n",
      "│    └─Conv1d: 2-3                       [1, 64, 24]               12,352\n",
      "│    └─ReLU: 2-4                         [1, 64, 24]               --\n",
      "├─Sequential: 1-2                        [1, 128]                  --\n",
      "│    └─Noisy_Layer: 2-5                  [1, 128]                  393,472\n",
      "│    └─ReLU: 2-6                         [1, 128]                  --\n",
      "├─ModuleList: 1-3                        --                        --\n",
      "│    └─Noisy_Layer: 2-7                  [1, 4]                    1,032\n",
      "│    └─Noisy_Layer: 2-8                  [1, 4]                    1,032\n",
      "│    └─Noisy_Layer: 2-9                  [1, 4]                    1,032\n",
      "│    └─Noisy_Layer: 2-10                 [1, 4]                    1,032\n",
      "==========================================================================================\n",
      "Total params: 411,042\n",
      "Trainable params: 411,042\n",
      "Non-trainable params: 0\n",
      "Total mult-adds (Units.MEGABYTES): 50.70\n",
      "==========================================================================================\n",
      "Input size (MB): 0.00\n",
      "Forward/backward pass size (MB): 0.03\n",
      "Params size (MB): 1.64\n",
      "Estimated Total Size (MB): 1.67\n",
      "==========================================================================================\n",
      "torch.Size([1, 4, 4])\n",
      "0.001020669937133789 to process 600 states, average of 0.000002 seconds per state\n"
     ]
    }
   ],
   "source": [
    "# noisy dqn\n",
    "test_network = DQN(4, 8, [4,4,4,4], noisy=True)\n",
    "print(summary(test_network, input_data=state))\n",
    "start_time = time.time()\n",
    "\n",
    "q_values = test_network(state)\n",
    "print(q_values.shape)\n",
    "\n",
    "total_time = time.time() - start_time\n",
    "print(f\"{total_time} to process 600 states, average of {total_time/600:.6f} seconds per state\")"
   ]
  },
  {
   "cell_type": "code",
   "execution_count": 14,
   "metadata": {},
   "outputs": [
    {
     "name": "stdout",
     "output_type": "stream",
     "text": [
      "==========================================================================================\n",
      "Layer (type:depth-idx)                   Output Shape              Param #\n",
      "==========================================================================================\n",
      "DQN                                      [1, 4, 4]                 --\n",
      "├─Sequential: 1-1                        [1, 64, 24]               --\n",
      "│    └─Conv1d: 2-1                       [1, 64, 24]               832\n",
      "│    └─ReLU: 2-2                         [1, 64, 24]               --\n",
      "│    └─Conv1d: 2-3                       [1, 64, 24]               12,352\n",
      "│    └─ReLU: 2-4                         [1, 64, 24]               --\n",
      "├─Sequential: 1-2                        [1, 128]                  --\n",
      "│    └─Noisy_Layer: 2-5                  [1, 128]                  393,472\n",
      "│    └─ReLU: 2-6                         [1, 128]                  --\n",
      "├─Noisy_Layer: 1-3                       [1, 1]                    258\n",
      "├─ModuleList: 1-4                        --                        --\n",
      "│    └─Noisy_Layer: 2-7                  [1, 4]                    1,032\n",
      "│    └─Noisy_Layer: 2-8                  [1, 4]                    1,032\n",
      "│    └─Noisy_Layer: 2-9                  [1, 4]                    1,032\n",
      "│    └─Noisy_Layer: 2-10                 [1, 4]                    1,032\n",
      "==========================================================================================\n",
      "Total params: 411,042\n",
      "Trainable params: 411,042\n",
      "Non-trainable params: 0\n",
      "Total mult-adds (Units.MEGABYTES): 50.70\n",
      "==========================================================================================\n",
      "Input size (MB): 0.00\n",
      "Forward/backward pass size (MB): 0.03\n",
      "Params size (MB): 1.64\n",
      "Estimated Total Size (MB): 1.67\n",
      "==========================================================================================\n",
      "torch.Size([1, 4, 4])\n",
      "0.002012014389038086 to process 600 states, average of 0.000003 seconds per state\n"
     ]
    }
   ],
   "source": [
    "# dueling noisy dqn\n",
    "test_network = DQN(4, 8, [4,4,4,4], noisy=True, dueling=True)\n",
    "print(summary(test_network, input_data=state))\n",
    "start_time = time.time()\n",
    "\n",
    "q_values = test_network(state)\n",
    "print(q_values.shape)\n",
    "\n",
    "total_time = time.time() - start_time\n",
    "print(f\"{total_time} to process 600 states, average of {total_time/600:.6f} seconds per state\")"
   ]
  },
  {
   "cell_type": "code",
   "execution_count": 15,
   "metadata": {},
   "outputs": [
    {
     "name": "stdout",
     "output_type": "stream",
     "text": [
      "torch.Size([1, 15, 24])\n"
     ]
    }
   ],
   "source": [
    "state = torch.randint(1,10,(1,15,8,3), dtype=torch.float32)\n",
    "state = state.view(state.size(0), 15, -1)\n",
    "print(state.shape)"
   ]
  },
  {
   "cell_type": "code",
   "execution_count": 16,
   "metadata": {},
   "outputs": [
    {
     "name": "stdout",
     "output_type": "stream",
     "text": [
      "==========================================================================================\n",
      "Layer (type:depth-idx)                   Output Shape              Param #\n",
      "==========================================================================================\n",
      "LSTM_DQN                                 [1, 4, 4]                 129\n",
      "├─LSTM: 1-1                              [1, 15, 128]              78,848\n",
      "├─Sequential: 1-2                        [1, 128]                  --\n",
      "│    └─Linear: 2-1                       [1, 128]                  16,512\n",
      "│    └─ReLU: 2-2                         [1, 128]                  --\n",
      "├─ModuleList: 1-3                        --                        --\n",
      "│    └─Linear: 2-3                       [1, 4]                    516\n",
      "│    └─Linear: 2-4                       [1, 4]                    516\n",
      "│    └─Linear: 2-5                       [1, 4]                    516\n",
      "│    └─Linear: 2-6                       [1, 4]                    516\n",
      "==========================================================================================\n",
      "Total params: 97,553\n",
      "Trainable params: 97,553\n",
      "Non-trainable params: 0\n",
      "Total mult-adds (Units.MEGABYTES): 1.20\n",
      "==========================================================================================\n",
      "Input size (MB): 0.00\n",
      "Forward/backward pass size (MB): 0.02\n",
      "Params size (MB): 0.39\n",
      "Estimated Total Size (MB): 0.41\n",
      "==========================================================================================\n",
      "torch.Size([1, 4, 4])\n",
      "torch.Size([1, 1, 128])\n",
      "torch.Size([1, 1, 128])\n",
      "0.01580977439880371 to process 600 states, average of 0.000026 seconds per state\n"
     ]
    }
   ],
   "source": [
    "# standard lstm dqn\n",
    "test_network = LSTM_DQN(24, [4,4,4,4])\n",
    "print(summary(test_network, input_data=state))\n",
    "start_time = time.time()\n",
    "\n",
    "hidden = None\n",
    "q_values, hidden = test_network(state, hidden)\n",
    "print(q_values.shape)\n",
    "print(hidden[0].shape)\n",
    "print(hidden[1].shape)\n",
    "\n",
    "total_time = time.time() - start_time\n",
    "print(f\"{total_time} to process 600 states, average of {total_time/600:.6f} seconds per state\")"
   ]
  },
  {
   "cell_type": "code",
   "execution_count": 17,
   "metadata": {},
   "outputs": [
    {
     "name": "stdout",
     "output_type": "stream",
     "text": [
      "==========================================================================================\n",
      "Layer (type:depth-idx)                   Output Shape              Param #\n",
      "==========================================================================================\n",
      "LSTM_DQN                                 [1, 4, 4]                 258\n",
      "├─LSTM: 1-1                              [1, 15, 128]              78,848\n",
      "├─Sequential: 1-2                        [1, 128]                  --\n",
      "│    └─Noisy_Layer: 2-1                  [1, 128]                  33,024\n",
      "│    └─ReLU: 2-2                         [1, 128]                  --\n",
      "├─ModuleList: 1-3                        --                        --\n",
      "│    └─Noisy_Layer: 2-3                  [1, 4]                    1,032\n",
      "│    └─Noisy_Layer: 2-4                  [1, 4]                    1,032\n",
      "│    └─Noisy_Layer: 2-5                  [1, 4]                    1,032\n",
      "│    └─Noisy_Layer: 2-6                  [1, 4]                    1,032\n",
      "==========================================================================================\n",
      "Total params: 116,258\n",
      "Trainable params: 116,258\n",
      "Non-trainable params: 0\n",
      "Total mult-adds (Units.MEGABYTES): 5.43\n",
      "==========================================================================================\n",
      "Input size (MB): 0.00\n",
      "Forward/backward pass size (MB): 0.02\n",
      "Params size (MB): 0.46\n",
      "Estimated Total Size (MB): 0.48\n",
      "==========================================================================================\n",
      "torch.Size([1, 4, 4])\n",
      "torch.Size([1, 1, 128])\n",
      "torch.Size([1, 1, 128])\n",
      "0.002004384994506836 to process 600 states, average of 0.000003 seconds per state\n"
     ]
    }
   ],
   "source": [
    "# noisy lstm dqn\n",
    "test_network = LSTM_DQN(24, [4,4,4,4], noisy=True)\n",
    "print(summary(test_network, input_data=state))\n",
    "start_time = time.time()\n",
    "\n",
    "hidden = None\n",
    "q_values, hidden = test_network(state, hidden)\n",
    "print(q_values.shape)\n",
    "print(hidden[0].shape)\n",
    "print(hidden[1].shape)\n",
    "\n",
    "total_time = time.time() - start_time\n",
    "print(f\"{total_time} to process 600 states, average of {total_time/600:.6f} seconds per state\")"
   ]
  },
  {
   "cell_type": "code",
   "execution_count": 18,
   "metadata": {},
   "outputs": [
    {
     "name": "stdout",
     "output_type": "stream",
     "text": [
      "==========================================================================================\n",
      "Layer (type:depth-idx)                   Output Shape              Param #\n",
      "==========================================================================================\n",
      "LSTM_DQN                                 [1, 4, 4]                 --\n",
      "├─LSTM: 1-1                              [1, 15, 128]              78,848\n",
      "├─Sequential: 1-2                        [1, 128]                  --\n",
      "│    └─Noisy_Layer: 2-1                  [1, 128]                  33,024\n",
      "│    └─ReLU: 2-2                         [1, 128]                  --\n",
      "├─Noisy_Layer: 1-3                       [1, 1]                    258\n",
      "├─ModuleList: 1-4                        --                        --\n",
      "│    └─Noisy_Layer: 2-3                  [1, 4]                    1,032\n",
      "│    └─Noisy_Layer: 2-4                  [1, 4]                    1,032\n",
      "│    └─Noisy_Layer: 2-5                  [1, 4]                    1,032\n",
      "│    └─Noisy_Layer: 2-6                  [1, 4]                    1,032\n",
      "==========================================================================================\n",
      "Total params: 116,258\n",
      "Trainable params: 116,258\n",
      "Non-trainable params: 0\n",
      "Total mult-adds (Units.MEGABYTES): 5.43\n",
      "==========================================================================================\n",
      "Input size (MB): 0.00\n",
      "Forward/backward pass size (MB): 0.02\n",
      "Params size (MB): 0.47\n",
      "Estimated Total Size (MB): 0.48\n",
      "==========================================================================================\n",
      "torch.Size([1, 4, 4])\n",
      "torch.Size([1, 1, 128])\n",
      "torch.Size([1, 1, 128])\n",
      "0.002038717269897461 to process 600 states, average of 0.000003 seconds per state\n"
     ]
    }
   ],
   "source": [
    "# dueling noisy lstm dqn\n",
    "test_network = LSTM_DQN(24, [4,4,4,4], noisy=True, dueling=True)\n",
    "print(summary(test_network, input_data=state))\n",
    "start_time = time.time()\n",
    "\n",
    "hidden = None\n",
    "q_values, hidden = test_network(state, hidden)\n",
    "print(q_values.shape)\n",
    "print(hidden[0].shape)\n",
    "print(hidden[1].shape)\n",
    "\n",
    "total_time = time.time() - start_time\n",
    "print(f\"{total_time} to process 600 states, average of {total_time/600:.6f} seconds per state\")"
   ]
  }
 ],
 "metadata": {
  "kernelspec": {
   "display_name": "Python 3",
   "language": "python",
   "name": "python3"
  },
  "language_info": {
   "codemirror_mode": {
    "name": "ipython",
    "version": 3
   },
   "file_extension": ".py",
   "mimetype": "text/x-python",
   "name": "python",
   "nbconvert_exporter": "python",
   "pygments_lexer": "ipython3",
   "version": "3.11.5"
  }
 },
 "nbformat": 4,
 "nbformat_minor": 2
}
