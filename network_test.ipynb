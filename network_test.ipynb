{
 "cells": [
  {
   "cell_type": "code",
   "execution_count": 1,
   "metadata": {},
   "outputs": [],
   "source": [
    "from model import DQN, LSTM_DQN\n",
    "import torch\n",
    "import time\n",
    "from torchinfo import summary\n",
    "from torch.distributions.categorical import Categorical"
   ]
  },
  {
   "cell_type": "code",
   "execution_count": 2,
   "metadata": {},
   "outputs": [
    {
     "name": "stdout",
     "output_type": "stream",
     "text": [
      "torch.Size([10, 4, 24])\n"
     ]
    }
   ],
   "source": [
    "state = torch.randint(1,10,(10,4,8,3), dtype=torch.float32)\n",
    "state = state.view(state.size(0), 4, -1)\n",
    "print(state.shape)"
   ]
  },
  {
   "cell_type": "code",
   "execution_count": 10,
   "metadata": {},
   "outputs": [
    {
     "name": "stdout",
     "output_type": "stream",
     "text": [
      "tensor([[-0.3839,  0.1889,  0.2450,  0.3958],\n",
      "        [ 0.3333,  0.1157,  0.3868, -0.2146],\n",
      "        [-0.1389,  0.1014,  0.0629, -0.2644],\n",
      "        [ 0.6350, -0.2690,  0.3087,  0.2739]], grad_fn=<SelectBackward0>)\n",
      "tensor([21,  3, 23, 17])\n",
      "\n",
      "0.007051944732666016 to process 600 states, average of 0.000012 seconds per state\n"
     ]
    }
   ],
   "source": [
    "# standard dqn\n",
    "test_network = DQN(4, 8, [4,4,4,4])\n",
    "#print(summary(test_network, input_data=state))\n",
    "start_time = time.time()\n",
    "\n",
    "q_values = test_network(state)\n",
    "dist = Categorical(state)\n",
    "print(q_values[0])\n",
    "print(dist.sample()[0])\n",
    "print()\n",
    "\n",
    "total_time = time.time() - start_time\n",
    "print(f\"{total_time} to process 600 states, average of {total_time/600:.6f} seconds per state\")"
   ]
  },
  {
   "cell_type": "code",
   "execution_count": 22,
   "metadata": {},
   "outputs": [
    {
     "name": "stdout",
     "output_type": "stream",
     "text": [
      "==========================================================================================\n",
      "Layer (type:depth-idx)                   Output Shape              Param #\n",
      "==========================================================================================\n",
      "DQN                                      [10, 4, 4]                258\n",
      "├─Sequential: 1-1                        [10, 64, 24]              --\n",
      "│    └─Conv1d: 2-1                       [10, 64, 24]              832\n",
      "│    └─ReLU: 2-2                         [10, 64, 24]              --\n",
      "│    └─Conv1d: 2-3                       [10, 64, 24]              12,352\n",
      "│    └─ReLU: 2-4                         [10, 64, 24]              --\n",
      "├─Sequential: 1-2                        [10, 128]                 --\n",
      "│    └─Noisy_Layer: 2-5                  [10, 128]                 393,472\n",
      "│    └─ReLU: 2-6                         [10, 128]                 --\n",
      "├─ModuleList: 1-3                        --                        --\n",
      "│    └─Noisy_Layer: 2-7                  [10, 4]                   1,032\n",
      "│    └─Noisy_Layer: 2-8                  [10, 4]                   1,032\n",
      "│    └─Noisy_Layer: 2-9                  [10, 4]                   1,032\n",
      "│    └─Noisy_Layer: 2-10                 [10, 4]                   1,032\n",
      "==========================================================================================\n",
      "Total params: 411,042\n",
      "Trainable params: 411,042\n",
      "Non-trainable params: 0\n",
      "Total mult-adds (Units.MEGABYTES): 506.97\n",
      "==========================================================================================\n",
      "Input size (MB): 0.00\n",
      "Forward/backward pass size (MB): 0.26\n",
      "Params size (MB): 1.64\n",
      "Estimated Total Size (MB): 1.90\n",
      "==========================================================================================\n",
      "torch.Size([10, 4, 4])\n",
      "0.0017108917236328125 to process 600 states, average of 0.000003 seconds per state\n"
     ]
    }
   ],
   "source": [
    "# noisy dqn\n",
    "test_network = DQN(4, 8, [4,4,4,4], noisy=True)\n",
    "print(summary(test_network, input_data=state))\n",
    "start_time = time.time()\n",
    "\n",
    "q_values = test_network(state)\n",
    "print(q_values.shape)\n",
    "\n",
    "total_time = time.time() - start_time\n",
    "print(f\"{total_time} to process 600 states, average of {total_time/600:.6f} seconds per state\")"
   ]
  },
  {
   "cell_type": "code",
   "execution_count": 23,
   "metadata": {},
   "outputs": [
    {
     "name": "stdout",
     "output_type": "stream",
     "text": [
      "==========================================================================================\n",
      "Layer (type:depth-idx)                   Output Shape              Param #\n",
      "==========================================================================================\n",
      "DQN                                      [10, 4, 4]                --\n",
      "├─Sequential: 1-1                        [10, 64, 24]              --\n",
      "│    └─Conv1d: 2-1                       [10, 64, 24]              832\n",
      "│    └─ReLU: 2-2                         [10, 64, 24]              --\n",
      "│    └─Conv1d: 2-3                       [10, 64, 24]              12,352\n",
      "│    └─ReLU: 2-4                         [10, 64, 24]              --\n",
      "├─Sequential: 1-2                        [10, 128]                 --\n",
      "│    └─Noisy_Layer: 2-5                  [10, 128]                 393,472\n",
      "│    └─ReLU: 2-6                         [10, 128]                 --\n",
      "├─Noisy_Layer: 1-3                       [10, 1]                   258\n",
      "├─ModuleList: 1-4                        --                        --\n",
      "│    └─Noisy_Layer: 2-7                  [10, 4]                   1,032\n",
      "│    └─Noisy_Layer: 2-8                  [10, 4]                   1,032\n",
      "│    └─Noisy_Layer: 2-9                  [10, 4]                   1,032\n",
      "│    └─Noisy_Layer: 2-10                 [10, 4]                   1,032\n",
      "==========================================================================================\n",
      "Total params: 411,042\n",
      "Trainable params: 411,042\n",
      "Non-trainable params: 0\n",
      "Total mult-adds (Units.MEGABYTES): 506.98\n",
      "==========================================================================================\n",
      "Input size (MB): 0.00\n",
      "Forward/backward pass size (MB): 0.26\n",
      "Params size (MB): 1.64\n",
      "Estimated Total Size (MB): 1.91\n",
      "==========================================================================================\n",
      "torch.Size([10, 4, 4])\n",
      "0.0022649765014648438 to process 600 states, average of 0.000004 seconds per state\n"
     ]
    }
   ],
   "source": [
    "# dueling noisy dqn\n",
    "test_network = DQN(4, 8, [4,4,4,4], noisy=True, dueling=True)\n",
    "print(summary(test_network, input_data=state))\n",
    "start_time = time.time()\n",
    "\n",
    "q_values = test_network(state)\n",
    "print(q_values.shape)\n",
    "\n",
    "total_time = time.time() - start_time\n",
    "print(f\"{total_time} to process 600 states, average of {total_time/600:.6f} seconds per state\")"
   ]
  },
  {
   "cell_type": "code",
   "execution_count": 24,
   "metadata": {},
   "outputs": [
    {
     "name": "stdout",
     "output_type": "stream",
     "text": [
      "torch.Size([1, 15, 24])\n"
     ]
    }
   ],
   "source": [
    "state = torch.randint(1,10,(1,15,8,3), dtype=torch.float32)\n",
    "state = state.view(state.size(0), 15, -1)\n",
    "print(state.shape)"
   ]
  },
  {
   "cell_type": "code",
   "execution_count": 25,
   "metadata": {},
   "outputs": [
    {
     "name": "stdout",
     "output_type": "stream",
     "text": [
      "==========================================================================================\n",
      "Layer (type:depth-idx)                   Output Shape              Param #\n",
      "==========================================================================================\n",
      "LSTM_DQN                                 [1, 4, 4]                 129\n",
      "├─LSTM: 1-1                              [1, 15, 128]              78,848\n",
      "├─Sequential: 1-2                        [1, 128]                  --\n",
      "│    └─Linear: 2-1                       [1, 128]                  16,512\n",
      "│    └─ReLU: 2-2                         [1, 128]                  --\n",
      "├─ModuleList: 1-3                        --                        --\n",
      "│    └─Linear: 2-3                       [1, 4]                    516\n",
      "│    └─Linear: 2-4                       [1, 4]                    516\n",
      "│    └─Linear: 2-5                       [1, 4]                    516\n",
      "│    └─Linear: 2-6                       [1, 4]                    516\n",
      "==========================================================================================\n",
      "Total params: 97,553\n",
      "Trainable params: 97,553\n",
      "Non-trainable params: 0\n",
      "Total mult-adds (Units.MEGABYTES): 1.20\n",
      "==========================================================================================\n",
      "Input size (MB): 0.00\n",
      "Forward/backward pass size (MB): 0.02\n",
      "Params size (MB): 0.39\n",
      "Estimated Total Size (MB): 0.41\n",
      "==========================================================================================\n",
      "torch.Size([1, 4, 4])\n",
      "torch.Size([1, 1, 128])\n",
      "torch.Size([1, 1, 128])\n",
      "0.0013325214385986328 to process 600 states, average of 0.000002 seconds per state\n"
     ]
    },
    {
     "name": "stderr",
     "output_type": "stream",
     "text": [
      "c:\\Users\\bohui\\AppData\\Local\\Programs\\Python\\Python311\\Lib\\site-packages\\torch\\nn\\modules\\rnn.py:123: UserWarning: dropout option adds dropout after all but last recurrent layer, so non-zero dropout expects num_layers greater than 1, but got dropout=0.2 and num_layers=1\n",
      "  warnings.warn(\n"
     ]
    }
   ],
   "source": [
    "# standard lstm dqn\n",
    "test_network = LSTM_DQN(24, [4,4,4,4])\n",
    "print(summary(test_network, input_data=state))\n",
    "start_time = time.time()\n",
    "\n",
    "hidden = None\n",
    "q_values, hidden = test_network(state, hidden)\n",
    "print(q_values.shape)\n",
    "print(hidden[0].shape)\n",
    "print(hidden[1].shape)\n",
    "\n",
    "total_time = time.time() - start_time\n",
    "print(f\"{total_time} to process 600 states, average of {total_time/600:.6f} seconds per state\")"
   ]
  },
  {
   "cell_type": "code",
   "execution_count": 26,
   "metadata": {},
   "outputs": [
    {
     "name": "stdout",
     "output_type": "stream",
     "text": [
      "==========================================================================================\n",
      "Layer (type:depth-idx)                   Output Shape              Param #\n",
      "==========================================================================================\n",
      "LSTM_DQN                                 [1, 4, 4]                 258\n",
      "├─LSTM: 1-1                              [1, 15, 128]              78,848\n",
      "├─Sequential: 1-2                        [1, 128]                  --\n",
      "│    └─Linear: 2-1                       [1, 128]                  16,512\n",
      "│    └─ReLU: 2-2                         [1, 128]                  --\n",
      "├─ModuleList: 1-3                        --                        --\n",
      "│    └─Noisy_Layer: 2-3                  [1, 4]                    1,032\n",
      "│    └─Noisy_Layer: 2-4                  [1, 4]                    1,032\n",
      "│    └─Noisy_Layer: 2-5                  [1, 4]                    1,032\n",
      "│    └─Noisy_Layer: 2-6                  [1, 4]                    1,032\n",
      "==========================================================================================\n",
      "Total params: 99,746\n",
      "Trainable params: 99,746\n",
      "Non-trainable params: 0\n",
      "Total mult-adds (Units.MEGABYTES): 1.22\n",
      "==========================================================================================\n",
      "Input size (MB): 0.00\n",
      "Forward/backward pass size (MB): 0.02\n",
      "Params size (MB): 0.40\n",
      "Estimated Total Size (MB): 0.42\n",
      "==========================================================================================\n",
      "torch.Size([1, 4, 4])\n",
      "torch.Size([1, 1, 128])\n",
      "torch.Size([1, 1, 128])\n",
      "0.003002166748046875 to process 600 states, average of 0.000005 seconds per state\n"
     ]
    }
   ],
   "source": [
    "# noisy lstm dqn\n",
    "test_network = LSTM_DQN(24, [4,4,4,4], noisy=True)\n",
    "print(summary(test_network, input_data=state))\n",
    "start_time = time.time()\n",
    "\n",
    "hidden = None\n",
    "q_values, hidden = test_network(state, hidden)\n",
    "print(q_values.shape)\n",
    "print(hidden[0].shape)\n",
    "print(hidden[1].shape)\n",
    "\n",
    "total_time = time.time() - start_time\n",
    "print(f\"{total_time} to process 600 states, average of {total_time/600:.6f} seconds per state\")"
   ]
  },
  {
   "cell_type": "code",
   "execution_count": 27,
   "metadata": {},
   "outputs": [
    {
     "name": "stdout",
     "output_type": "stream",
     "text": [
      "==========================================================================================\n",
      "Layer (type:depth-idx)                   Output Shape              Param #\n",
      "==========================================================================================\n",
      "LSTM_DQN                                 [1, 4, 4]                 --\n",
      "├─LSTM: 1-1                              [1, 15, 128]              78,848\n",
      "├─Sequential: 1-2                        [1, 128]                  --\n",
      "│    └─Linear: 2-1                       [1, 128]                  16,512\n",
      "│    └─ReLU: 2-2                         [1, 128]                  --\n",
      "├─Noisy_Layer: 1-3                       [1, 1]                    258\n",
      "├─ModuleList: 1-4                        --                        --\n",
      "│    └─Noisy_Layer: 2-3                  [1, 4]                    1,032\n",
      "│    └─Noisy_Layer: 2-4                  [1, 4]                    1,032\n",
      "│    └─Noisy_Layer: 2-5                  [1, 4]                    1,032\n",
      "│    └─Noisy_Layer: 2-6                  [1, 4]                    1,032\n",
      "==========================================================================================\n",
      "Total params: 99,746\n",
      "Trainable params: 99,746\n",
      "Non-trainable params: 0\n",
      "Total mult-adds (Units.MEGABYTES): 1.22\n",
      "==========================================================================================\n",
      "Input size (MB): 0.00\n",
      "Forward/backward pass size (MB): 0.02\n",
      "Params size (MB): 0.40\n",
      "Estimated Total Size (MB): 0.42\n",
      "==========================================================================================\n",
      "torch.Size([1, 4, 4])\n",
      "torch.Size([1, 1, 128])\n",
      "torch.Size([1, 1, 128])\n",
      "0.0015070438385009766 to process 600 states, average of 0.000003 seconds per state\n"
     ]
    }
   ],
   "source": [
    "# dueling noisy lstm dqn\n",
    "test_network = LSTM_DQN(24, [4,4,4,4], noisy=True, dueling=True)\n",
    "print(summary(test_network, input_data=state))\n",
    "start_time = time.time()\n",
    "\n",
    "hidden = None\n",
    "q_values, hidden = test_network(state, hidden)\n",
    "print(q_values.shape)\n",
    "print(hidden[0].shape)\n",
    "print(hidden[1].shape)\n",
    "\n",
    "total_time = time.time() - start_time\n",
    "print(f\"{total_time} to process 600 states, average of {total_time/600:.6f} seconds per state\")"
   ]
  }
 ],
 "metadata": {
  "kernelspec": {
   "display_name": "Python 3",
   "language": "python",
   "name": "python3"
  },
  "language_info": {
   "codemirror_mode": {
    "name": "ipython",
    "version": 3
   },
   "file_extension": ".py",
   "mimetype": "text/x-python",
   "name": "python",
   "nbconvert_exporter": "python",
   "pygments_lexer": "ipython3",
   "version": "3.10.11"
  }
 },
 "nbformat": 4,
 "nbformat_minor": 2
}
