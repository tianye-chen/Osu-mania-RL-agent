{
 "cells": [
  {
   "cell_type": "code",
   "execution_count": 31,
   "metadata": {},
   "outputs": [],
   "source": [
    "from model import DQN, LSTM_DQN\n",
    "import torch\n",
    "import time\n",
    "from torchinfo import summary\n",
    "from torch.distributions.categorical import Categorical"
   ]
  },
  {
   "cell_type": "code",
   "execution_count": 32,
   "metadata": {},
   "outputs": [
    {
     "name": "stdout",
     "output_type": "stream",
     "text": [
      "torch.Size([10, 4, 24])\n"
     ]
    }
   ],
   "source": [
    "state = torch.randint(1,10,(10,4,8,3), dtype=torch.float32)\n",
    "state = state.view(state.size(0), 4, -1)\n",
    "print(state.shape)"
   ]
  },
  {
   "cell_type": "code",
   "execution_count": 33,
   "metadata": {},
   "outputs": [
    {
     "name": "stdout",
     "output_type": "stream",
     "text": [
      "==========================================================================================\n",
      "Layer (type:depth-idx)                   Output Shape              Param #\n",
      "==========================================================================================\n",
      "DQN                                      [10, 4, 4]                129\n",
      "├─Sequential: 1-1                        [10, 64, 24]              --\n",
      "│    └─Conv1d: 2-1                       [10, 64, 24]              832\n",
      "│    └─ReLU: 2-2                         [10, 64, 24]              --\n",
      "│    └─Conv1d: 2-3                       [10, 64, 24]              12,352\n",
      "│    └─ReLU: 2-4                         [10, 64, 24]              --\n",
      "├─Sequential: 1-2                        [10, 128]                 --\n",
      "│    └─Linear: 2-5                       [10, 128]                 196,736\n",
      "│    └─ReLU: 2-6                         [10, 128]                 --\n",
      "├─ModuleList: 1-3                        --                        --\n",
      "│    └─Linear: 2-7                       [10, 4]                   516\n",
      "│    └─Linear: 2-8                       [10, 4]                   516\n",
      "│    └─Linear: 2-9                       [10, 4]                   516\n",
      "│    └─Linear: 2-10                      [10, 4]                   516\n",
      "==========================================================================================\n",
      "Total params: 212,113\n",
      "Trainable params: 212,113\n",
      "Non-trainable params: 0\n",
      "Total mult-adds (Units.MEGABYTES): 5.15\n",
      "==========================================================================================\n",
      "Input size (MB): 0.00\n",
      "Forward/backward pass size (MB): 0.26\n",
      "Params size (MB): 0.85\n",
      "Estimated Total Size (MB): 1.11\n",
      "==========================================================================================\n",
      "torch.Size([10, 4, 4])\n",
      "0.0020177364349365234 to process 600 states, average of 0.000003 seconds per state\n"
     ]
    }
   ],
   "source": [
    "# standard dqn\n",
    "test_network = DQN(4, 8, [4,4,4,4])\n",
    "print(summary(test_network, input_data=state))\n",
    "start_time = time.time()\n",
    "\n",
    "q_values = test_network(state)\n",
    "print(q_values.shape)\n",
    "\n",
    "total_time = time.time() - start_time\n",
    "print(f\"{total_time} to process 600 states, average of {total_time/600:.6f} seconds per state\")"
   ]
  },
  {
   "cell_type": "code",
   "execution_count": 34,
   "metadata": {},
   "outputs": [
    {
     "name": "stdout",
     "output_type": "stream",
     "text": [
      "torch.Size([1, 15, 24])\n"
     ]
    }
   ],
   "source": [
    "state = torch.randint(1,10,(1,15,8,3), dtype=torch.float32)\n",
    "state = state.view(state.size(0), 15, -1)\n",
    "print(state.shape)"
   ]
  },
  {
   "cell_type": "code",
   "execution_count": 35,
   "metadata": {},
   "outputs": [
    {
     "name": "stdout",
     "output_type": "stream",
     "text": [
      "==========================================================================================\n",
      "Layer (type:depth-idx)                   Output Shape              Param #\n",
      "==========================================================================================\n",
      "LSTM_DQN                                 [1, 4, 4]                 129\n",
      "├─LSTM: 1-1                              [1, 15, 128]              78,848\n",
      "├─Sequential: 1-2                        [1, 128]                  --\n",
      "│    └─Linear: 2-1                       [1, 128]                  16,512\n",
      "│    └─ReLU: 2-2                         [1, 128]                  --\n",
      "├─ModuleList: 1-3                        --                        --\n",
      "│    └─Linear: 2-3                       [1, 4]                    516\n",
      "│    └─Linear: 2-4                       [1, 4]                    516\n",
      "│    └─Linear: 2-5                       [1, 4]                    516\n",
      "│    └─Linear: 2-6                       [1, 4]                    516\n",
      "==========================================================================================\n",
      "Total params: 97,553\n",
      "Trainable params: 97,553\n",
      "Non-trainable params: 0\n",
      "Total mult-adds (Units.MEGABYTES): 1.20\n",
      "==========================================================================================\n",
      "Input size (MB): 0.00\n",
      "Forward/backward pass size (MB): 0.02\n",
      "Params size (MB): 0.39\n",
      "Estimated Total Size (MB): 0.41\n",
      "==========================================================================================\n",
      "torch.Size([1, 4, 4])\n",
      "torch.Size([1, 1, 128])\n",
      "torch.Size([1, 1, 128])\n",
      "0.0065195560455322266 to process 600 states, average of 0.000011 seconds per state\n"
     ]
    },
    {
     "name": "stderr",
     "output_type": "stream",
     "text": [
      "c:\\Users\\bohui\\AppData\\Local\\Programs\\Python\\Python311\\Lib\\site-packages\\torch\\nn\\modules\\rnn.py:123: UserWarning: dropout option adds dropout after all but last recurrent layer, so non-zero dropout expects num_layers greater than 1, but got dropout=0.2 and num_layers=1\n",
      "  warnings.warn(\n"
     ]
    }
   ],
   "source": [
    "# standard lstm dqn\n",
    "test_network = LSTM_DQN(24, [4,4,4,4])\n",
    "print(summary(test_network, input_data=state))\n",
    "start_time = time.time()\n",
    "\n",
    "hidden = None\n",
    "q_values, hidden = test_network(state, hidden)\n",
    "print(q_values.shape)\n",
    "print(hidden[0].shape)\n",
    "print(hidden[1].shape)\n",
    "\n",
    "total_time = time.time() - start_time\n",
    "print(f\"{total_time} to process 600 states, average of {total_time/600:.6f} seconds per state\")"
   ]
  }
 ],
 "metadata": {
  "kernelspec": {
   "display_name": "Python 3",
   "language": "python",
   "name": "python3"
  },
  "language_info": {
   "codemirror_mode": {
    "name": "ipython",
    "version": 3
   },
   "file_extension": ".py",
   "mimetype": "text/x-python",
   "name": "python",
   "nbconvert_exporter": "python",
   "pygments_lexer": "ipython3",
   "version": "3.11.5"
  }
 },
 "nbformat": 4,
 "nbformat_minor": 2
}
