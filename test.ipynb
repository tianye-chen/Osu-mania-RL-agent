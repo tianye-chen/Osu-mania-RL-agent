{
 "cells": [
  {
   "cell_type": "code",
   "execution_count": null,
   "metadata": {},
   "outputs": [
    {
     "name": "stdout",
     "output_type": "stream",
     "text": [
      "General output\n"
     ]
    }
   ],
   "source": [
    "import sys\n",
    "\n",
    "# Redirect debug output to a file\n",
    "def redirect_debug_output(message, debug_file=\"C:\\\\tmp\\\\debug_output.txt\"):\n",
    "    with open(debug_file, \"w\") as debug_console:\n",
    "        message = str(message)\n",
    "        debug_console.write(message + \"\\n\")\n",
    "\n",
    "# Example usage\n",
    "print(\"General output\")\n",
    "data = [1, 2, 3]\n",
    "\n",
    "for i in range(10000):\n",
    "  data[0] = i\n",
    "  redirect_debug_output(data)"
   ]
  }
 ],
 "metadata": {
  "kernelspec": {
   "display_name": "Python 3",
   "language": "python",
   "name": "python3"
  },
  "language_info": {
   "codemirror_mode": {
    "name": "ipython",
    "version": 3
   },
   "file_extension": ".py",
   "mimetype": "text/x-python",
   "name": "python",
   "nbconvert_exporter": "python",
   "pygments_lexer": "ipython3",
   "version": "3.10.6"
  }
 },
 "nbformat": 4,
 "nbformat_minor": 2
}
