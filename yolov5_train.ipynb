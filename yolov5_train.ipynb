{
 "cells": [
  {
   "cell_type": "code",
   "execution_count": 21,
   "metadata": {},
   "outputs": [],
   "source": [
    "from PIL import Image\n",
    "import matplotlib.pyplot as plt\n",
    "import torch\n",
    "import torchvision.transforms as transforms\n",
    "import os\n",
    "import time\n",
    "import base64\n",
    "import requests\n",
    "from roboflow import Roboflow"
   ]
  },
  {
   "cell_type": "code",
   "execution_count": 25,
   "metadata": {},
   "outputs": [],
   "source": [
    "# CONSTANTS\n",
    "\n",
    "DEVICE = torch.device(\"cuda\" if torch.cuda.is_available() else \"cpu\")\n",
    "YAML_PATH = \"./data/data.yaml\"\n",
    "API_KEY = \"pgrcxdJtGSZlUMbC9id6\""
   ]
  },
  {
   "cell_type": "code",
   "execution_count": 9,
   "metadata": {},
   "outputs": [
    {
     "name": "stdout",
     "output_type": "stream",
     "text": [
      "Using cuda NVIDIA GeForce RTX 3050 Ti Laptop GPU with 3302.4500007629395 MB of VRAM\n"
     ]
    }
   ],
   "source": [
    "if DEVICE == torch.device('cuda'):\n",
    "    print(f'Using {DEVICE} {torch.cuda.get_device_name()} with {torch.cuda.mem_get_info()[0]/(1024**2)} MB of VRAM')"
   ]
  },
  {
   "cell_type": "code",
   "execution_count": 27,
   "metadata": {},
   "outputs": [
    {
     "name": "stdout",
     "output_type": "stream",
     "text": [
      "loading Roboflow workspace...\n",
      "loading Roboflow project...\n",
      "{'predictions': [{'x': 240, 'y': 135, 'width': 143, 'height': 143, 'confidence': 0.9369357824325562, 'class': 'note', 'class_id': 1, 'detection_id': 'ab7beeab-6fb0-456e-b060-dfd09b6be141', 'image_path': '.\\\\frames\\\\unlabeled\\\\1729608856\\\\frame_00046.jpg', 'prediction_type': 'ObjectDetectionModel'}, {'x': 527, 'y': 742, 'width': 142, 'height': 145, 'confidence': 0.929236114025116, 'class': 'note', 'class_id': 1, 'detection_id': '683e902b-a0f3-40c7-bbb7-3ca3ea950714', 'image_path': '.\\\\frames\\\\unlabeled\\\\1729608856\\\\frame_00046.jpg', 'prediction_type': 'ObjectDetectionModel'}], 'image': {'width': '628', 'height': '1080'}}\n",
      "Time taken: 4.175187826156616 seconds\n"
     ]
    }
   ],
   "source": [
    "path = \".\\\\frames\\\\unlabeled\\\\1729608856\\\\frame_00046.jpg\"\n",
    "rf = Roboflow(api_key=API_KEY)\n",
    "project = rf.workspace().project(\"cvrl\")\n",
    "model = project.version(3).model"
   ]
  },
  {
   "cell_type": "code",
   "execution_count": null,
   "metadata": {},
   "outputs": [],
   "source": [
    "begin = time.time()\n",
    "pred = model.predict(path, confidence=40, overlap=30).json()\n",
    "print(pred)\n",
    "end = time.time()\n",
    "\n",
    "print(f\"Time taken: {end - begin} seconds\")"
   ]
  },
  {
   "cell_type": "code",
   "execution_count": 10,
   "metadata": {},
   "outputs": [],
   "source": [
    "if not os.path.exists('yolov5'):\n",
    "  !git clone https://github.com/ultralytics/yolov5\n",
    "  !pip install -r yolov5/requirements.txt"
   ]
  },
  {
   "cell_type": "code",
   "execution_count": null,
   "metadata": {},
   "outputs": [],
   "source": [
    "!python ./yolov5/train.py --data {YAML_PATH} --weights yolov5s.pt --img 1080"
   ]
  }
 ],
 "metadata": {
  "kernelspec": {
   "display_name": "Python 3",
   "language": "python",
   "name": "python3"
  },
  "language_info": {
   "codemirror_mode": {
    "name": "ipython",
    "version": 3
   },
   "file_extension": ".py",
   "mimetype": "text/x-python",
   "name": "python",
   "nbconvert_exporter": "python",
   "pygments_lexer": "ipython3",
   "version": "3.10.6"
  }
 },
 "nbformat": 4,
 "nbformat_minor": 2
}
